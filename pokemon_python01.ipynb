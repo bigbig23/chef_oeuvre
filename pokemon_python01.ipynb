{
 "cells": [
  {
   "cell_type": "code",
   "execution_count": 1,
   "metadata": {},
   "outputs": [],
   "source": [
    "import os\n",
    "import warnings\n",
    "warnings.filterwarnings('ignore')"
   ]
  },
  {
   "cell_type": "code",
   "execution_count": 2,
   "metadata": {},
   "outputs": [
    {
     "data": {
      "text/plain": [
       "'C:\\\\Users\\\\Raed\\\\DATA\\\\chef_oeuvre-master'"
      ]
     },
     "execution_count": 2,
     "metadata": {},
     "output_type": "execute_result"
    }
   ],
   "source": [
    "os.getcwd()"
   ]
  },
  {
   "cell_type": "code",
   "execution_count": 3,
   "metadata": {},
   "outputs": [],
   "source": [
    "#os.chdir(r'C:\\Users\\Administrateur\\Desktop\\PROJET POKEMON !!')\n",
    "#Chemin Miguel\n",
    "os.chdir(r'C:\\Users\\Raed\\DATA\\chef_oeuvre-master')\n",
    "#Chemin Raed"
   ]
  },
  {
   "cell_type": "code",
   "execution_count": 4,
   "metadata": {},
   "outputs": [
    {
     "data": {
      "text/plain": [
       "'C:\\\\Users\\\\Raed\\\\DATA\\\\chef_oeuvre-master'"
      ]
     },
     "execution_count": 4,
     "metadata": {},
     "output_type": "execute_result"
    }
   ],
   "source": [
    "os.getcwd()"
   ]
  },
  {
   "cell_type": "code",
   "execution_count": 5,
   "metadata": {},
   "outputs": [],
   "source": [
    "import pandas as pd"
   ]
  },
  {
   "cell_type": "code",
   "execution_count": 6,
   "metadata": {},
   "outputs": [],
   "source": [
    "# names=['id_pokemon','nom_pokemon','Name', 'taille', 'poids', 'Pre-Test Score', 'Points de vie de base','Attaque de base','Défense de base','Attaque spéciale de base','Défense spéciale de base','Vitesse de base']"
   ]
  },
  {
   "cell_type": "markdown",
   "metadata": {},
   "source": [
    "# Lecture du CSV"
   ]
  },
  {
   "cell_type": "code",
   "execution_count": 7,
   "metadata": {},
   "outputs": [],
   "source": [
    "df_csv = pd.read_csv('pokemon.csv')"
   ]
  },
  {
   "cell_type": "code",
   "execution_count": 8,
   "metadata": {},
   "outputs": [
    {
     "data": {
      "text/html": [
       "<div>\n",
       "<style scoped>\n",
       "    .dataframe tbody tr th:only-of-type {\n",
       "        vertical-align: middle;\n",
       "    }\n",
       "\n",
       "    .dataframe tbody tr th {\n",
       "        vertical-align: top;\n",
       "    }\n",
       "\n",
       "    .dataframe thead th {\n",
       "        text-align: right;\n",
       "    }\n",
       "</style>\n",
       "<table border=\"1\" class=\"dataframe\">\n",
       "  <thead>\n",
       "    <tr style=\"text-align: right;\">\n",
       "      <th></th>\n",
       "      <th>web-scraper-order</th>\n",
       "      <th>web-scraper-start-url</th>\n",
       "      <th>pokemon_normaux</th>\n",
       "      <th>pokemon_normaux-href</th>\n",
       "      <th>id_pokemon</th>\n",
       "      <th>nom_pokemon</th>\n",
       "      <th>taille</th>\n",
       "      <th>poids</th>\n",
       "      <th>Points de vie de base</th>\n",
       "      <th>Attaque de base</th>\n",
       "      <th>Défense de base</th>\n",
       "      <th>Attaque spéciale de base</th>\n",
       "      <th>Défense spéciale de base</th>\n",
       "      <th>Vitesse de base</th>\n",
       "      <th>Type_pokemon1-src</th>\n",
       "    </tr>\n",
       "  </thead>\n",
       "  <tbody>\n",
       "    <tr>\n",
       "      <th>0</th>\n",
       "      <td>1530535057-1607</td>\n",
       "      <td>https://ivpokemon.fr/liste-pokemon</td>\n",
       "      <td>Regice</td>\n",
       "      <td>https://ivpokemon.fr/infos-pokemon?id=378</td>\n",
       "      <td>#378</td>\n",
       "      <td>Regice</td>\n",
       "      <td>1.8 m</td>\n",
       "      <td>175 kg</td>\n",
       "      <td>80</td>\n",
       "      <td>50</td>\n",
       "      <td>100</td>\n",
       "      <td>100</td>\n",
       "      <td>200</td>\n",
       "      <td>50</td>\n",
       "      <td>https://ivpokemon.fr/ressources/images/types/1...</td>\n",
       "    </tr>\n",
       "    <tr>\n",
       "      <th>1</th>\n",
       "      <td>1530534868-1473</td>\n",
       "      <td>https://ivpokemon.fr/liste-pokemon</td>\n",
       "      <td>Maganon</td>\n",
       "      <td>https://ivpokemon.fr/infos-pokemon?id=467</td>\n",
       "      <td>#467</td>\n",
       "      <td>Maganon</td>\n",
       "      <td>1.6 m</td>\n",
       "      <td>68 kg</td>\n",
       "      <td>75</td>\n",
       "      <td>95</td>\n",
       "      <td>67</td>\n",
       "      <td>125</td>\n",
       "      <td>95</td>\n",
       "      <td>83</td>\n",
       "      <td>https://ivpokemon.fr/ressources/images/types/1...</td>\n",
       "    </tr>\n",
       "    <tr>\n",
       "      <th>2</th>\n",
       "      <td>1530534443-1190</td>\n",
       "      <td>https://ivpokemon.fr/liste-pokemon</td>\n",
       "      <td>Excavarenne</td>\n",
       "      <td>https://ivpokemon.fr/infos-pokemon?id=660</td>\n",
       "      <td>#660</td>\n",
       "      <td>Excavarenne</td>\n",
       "      <td>1 m</td>\n",
       "      <td>42.4 kg</td>\n",
       "      <td>85</td>\n",
       "      <td>56</td>\n",
       "      <td>77</td>\n",
       "      <td>50</td>\n",
       "      <td>77</td>\n",
       "      <td>78</td>\n",
       "      <td>https://ivpokemon.fr/ressources/images/types/1...</td>\n",
       "    </tr>\n",
       "    <tr>\n",
       "      <th>3</th>\n",
       "      <td>1530534388-1153</td>\n",
       "      <td>https://ivpokemon.fr/liste-pokemon</td>\n",
       "      <td>Sepiatop</td>\n",
       "      <td>https://ivpokemon.fr/infos-pokemon?id=686</td>\n",
       "      <td>#686</td>\n",
       "      <td>Sepiatop</td>\n",
       "      <td>0.4 m</td>\n",
       "      <td>3.5 kg</td>\n",
       "      <td>53</td>\n",
       "      <td>54</td>\n",
       "      <td>53</td>\n",
       "      <td>37</td>\n",
       "      <td>46</td>\n",
       "      <td>45</td>\n",
       "      <td>https://ivpokemon.fr/ressources/images/types/1...</td>\n",
       "    </tr>\n",
       "    <tr>\n",
       "      <th>4</th>\n",
       "      <td>1530535061-1610</td>\n",
       "      <td>https://ivpokemon.fr/liste-pokemon</td>\n",
       "      <td>Métalosse</td>\n",
       "      <td>https://ivpokemon.fr/infos-pokemon?id=376</td>\n",
       "      <td>#376</td>\n",
       "      <td>Métalosse</td>\n",
       "      <td>1.6 m</td>\n",
       "      <td>550 kg</td>\n",
       "      <td>80</td>\n",
       "      <td>135</td>\n",
       "      <td>130</td>\n",
       "      <td>95</td>\n",
       "      <td>90</td>\n",
       "      <td>70</td>\n",
       "      <td>https://ivpokemon.fr/ressources/images/types/1...</td>\n",
       "    </tr>\n",
       "  </tbody>\n",
       "</table>\n",
       "</div>"
      ],
      "text/plain": [
       "  web-scraper-order               web-scraper-start-url pokemon_normaux  \\\n",
       "0   1530535057-1607  https://ivpokemon.fr/liste-pokemon          Regice   \n",
       "1   1530534868-1473  https://ivpokemon.fr/liste-pokemon         Maganon   \n",
       "2   1530534443-1190  https://ivpokemon.fr/liste-pokemon     Excavarenne   \n",
       "3   1530534388-1153  https://ivpokemon.fr/liste-pokemon        Sepiatop   \n",
       "4   1530535061-1610  https://ivpokemon.fr/liste-pokemon       Métalosse   \n",
       "\n",
       "                        pokemon_normaux-href id_pokemon  nom_pokemon taille  \\\n",
       "0  https://ivpokemon.fr/infos-pokemon?id=378       #378       Regice  1.8 m   \n",
       "1  https://ivpokemon.fr/infos-pokemon?id=467       #467      Maganon  1.6 m   \n",
       "2  https://ivpokemon.fr/infos-pokemon?id=660       #660  Excavarenne    1 m   \n",
       "3  https://ivpokemon.fr/infos-pokemon?id=686       #686     Sepiatop  0.4 m   \n",
       "4  https://ivpokemon.fr/infos-pokemon?id=376       #376    Métalosse  1.6 m   \n",
       "\n",
       "     poids  Points de vie de base  Attaque de base  Défense de base  \\\n",
       "0   175 kg                     80               50              100   \n",
       "1    68 kg                     75               95               67   \n",
       "2  42.4 kg                     85               56               77   \n",
       "3   3.5 kg                     53               54               53   \n",
       "4   550 kg                     80              135              130   \n",
       "\n",
       "   Attaque spéciale de base  Défense spéciale de base  Vitesse de base  \\\n",
       "0                       100                       200               50   \n",
       "1                       125                        95               83   \n",
       "2                        50                        77               78   \n",
       "3                        37                        46               45   \n",
       "4                        95                        90               70   \n",
       "\n",
       "                                   Type_pokemon1-src  \n",
       "0  https://ivpokemon.fr/ressources/images/types/1...  \n",
       "1  https://ivpokemon.fr/ressources/images/types/1...  \n",
       "2  https://ivpokemon.fr/ressources/images/types/1...  \n",
       "3  https://ivpokemon.fr/ressources/images/types/1...  \n",
       "4  https://ivpokemon.fr/ressources/images/types/1...  "
      ]
     },
     "execution_count": 8,
     "metadata": {},
     "output_type": "execute_result"
    }
   ],
   "source": [
    "df_csv.head()"
   ]
  },
  {
   "cell_type": "markdown",
   "metadata": {},
   "source": [
    "# Nettoyage du csv"
   ]
  },
  {
   "cell_type": "code",
   "execution_count": 9,
   "metadata": {},
   "outputs": [],
   "source": [
    "df=df_csv[['id_pokemon','nom_pokemon', 'taille', 'poids', 'Points de vie de base','Attaque de base','Défense de base','Attaque spéciale de base','Défense spéciale de base','Vitesse de base','Type_pokemon1-src']]"
   ]
  },
  {
   "cell_type": "code",
   "execution_count": 10,
   "metadata": {},
   "outputs": [
    {
     "data": {
      "text/html": [
       "<div>\n",
       "<style scoped>\n",
       "    .dataframe tbody tr th:only-of-type {\n",
       "        vertical-align: middle;\n",
       "    }\n",
       "\n",
       "    .dataframe tbody tr th {\n",
       "        vertical-align: top;\n",
       "    }\n",
       "\n",
       "    .dataframe thead th {\n",
       "        text-align: right;\n",
       "    }\n",
       "</style>\n",
       "<table border=\"1\" class=\"dataframe\">\n",
       "  <thead>\n",
       "    <tr style=\"text-align: right;\">\n",
       "      <th></th>\n",
       "      <th>id_pokemon</th>\n",
       "      <th>nom_pokemon</th>\n",
       "      <th>taille</th>\n",
       "      <th>poids</th>\n",
       "      <th>Points de vie de base</th>\n",
       "      <th>Attaque de base</th>\n",
       "      <th>Défense de base</th>\n",
       "      <th>Attaque spéciale de base</th>\n",
       "      <th>Défense spéciale de base</th>\n",
       "      <th>Vitesse de base</th>\n",
       "      <th>Type_pokemon1-src</th>\n",
       "    </tr>\n",
       "  </thead>\n",
       "  <tbody>\n",
       "    <tr>\n",
       "      <th>0</th>\n",
       "      <td>#378</td>\n",
       "      <td>Regice</td>\n",
       "      <td>1.8 m</td>\n",
       "      <td>175 kg</td>\n",
       "      <td>80</td>\n",
       "      <td>50</td>\n",
       "      <td>100</td>\n",
       "      <td>100</td>\n",
       "      <td>200</td>\n",
       "      <td>50</td>\n",
       "      <td>https://ivpokemon.fr/ressources/images/types/1...</td>\n",
       "    </tr>\n",
       "    <tr>\n",
       "      <th>1</th>\n",
       "      <td>#467</td>\n",
       "      <td>Maganon</td>\n",
       "      <td>1.6 m</td>\n",
       "      <td>68 kg</td>\n",
       "      <td>75</td>\n",
       "      <td>95</td>\n",
       "      <td>67</td>\n",
       "      <td>125</td>\n",
       "      <td>95</td>\n",
       "      <td>83</td>\n",
       "      <td>https://ivpokemon.fr/ressources/images/types/1...</td>\n",
       "    </tr>\n",
       "    <tr>\n",
       "      <th>2</th>\n",
       "      <td>#660</td>\n",
       "      <td>Excavarenne</td>\n",
       "      <td>1 m</td>\n",
       "      <td>42.4 kg</td>\n",
       "      <td>85</td>\n",
       "      <td>56</td>\n",
       "      <td>77</td>\n",
       "      <td>50</td>\n",
       "      <td>77</td>\n",
       "      <td>78</td>\n",
       "      <td>https://ivpokemon.fr/ressources/images/types/1...</td>\n",
       "    </tr>\n",
       "    <tr>\n",
       "      <th>3</th>\n",
       "      <td>#686</td>\n",
       "      <td>Sepiatop</td>\n",
       "      <td>0.4 m</td>\n",
       "      <td>3.5 kg</td>\n",
       "      <td>53</td>\n",
       "      <td>54</td>\n",
       "      <td>53</td>\n",
       "      <td>37</td>\n",
       "      <td>46</td>\n",
       "      <td>45</td>\n",
       "      <td>https://ivpokemon.fr/ressources/images/types/1...</td>\n",
       "    </tr>\n",
       "    <tr>\n",
       "      <th>4</th>\n",
       "      <td>#376</td>\n",
       "      <td>Métalosse</td>\n",
       "      <td>1.6 m</td>\n",
       "      <td>550 kg</td>\n",
       "      <td>80</td>\n",
       "      <td>135</td>\n",
       "      <td>130</td>\n",
       "      <td>95</td>\n",
       "      <td>90</td>\n",
       "      <td>70</td>\n",
       "      <td>https://ivpokemon.fr/ressources/images/types/1...</td>\n",
       "    </tr>\n",
       "  </tbody>\n",
       "</table>\n",
       "</div>"
      ],
      "text/plain": [
       "  id_pokemon  nom_pokemon taille    poids  Points de vie de base  \\\n",
       "0       #378       Regice  1.8 m   175 kg                     80   \n",
       "1       #467      Maganon  1.6 m    68 kg                     75   \n",
       "2       #660  Excavarenne    1 m  42.4 kg                     85   \n",
       "3       #686     Sepiatop  0.4 m   3.5 kg                     53   \n",
       "4       #376    Métalosse  1.6 m   550 kg                     80   \n",
       "\n",
       "   Attaque de base  Défense de base  Attaque spéciale de base  \\\n",
       "0               50              100                       100   \n",
       "1               95               67                       125   \n",
       "2               56               77                        50   \n",
       "3               54               53                        37   \n",
       "4              135              130                        95   \n",
       "\n",
       "   Défense spéciale de base  Vitesse de base  \\\n",
       "0                       200               50   \n",
       "1                        95               83   \n",
       "2                        77               78   \n",
       "3                        46               45   \n",
       "4                        90               70   \n",
       "\n",
       "                                   Type_pokemon1-src  \n",
       "0  https://ivpokemon.fr/ressources/images/types/1...  \n",
       "1  https://ivpokemon.fr/ressources/images/types/1...  \n",
       "2  https://ivpokemon.fr/ressources/images/types/1...  \n",
       "3  https://ivpokemon.fr/ressources/images/types/1...  \n",
       "4  https://ivpokemon.fr/ressources/images/types/1...  "
      ]
     },
     "execution_count": 10,
     "metadata": {},
     "output_type": "execute_result"
    }
   ],
   "source": [
    "df.sort_index().head()"
   ]
  },
  {
   "cell_type": "code",
   "execution_count": 11,
   "metadata": {},
   "outputs": [],
   "source": [
    "# df['poids'].str.extract('(\\d+)').astype(int)"
   ]
  },
  {
   "cell_type": "code",
   "execution_count": 12,
   "metadata": {},
   "outputs": [],
   "source": [
    "df['id_pokemon'] = df['id_pokemon'].map(lambda x: x.lstrip('#'))"
   ]
  },
  {
   "cell_type": "code",
   "execution_count": 13,
   "metadata": {},
   "outputs": [
    {
     "data": {
      "text/html": [
       "<div>\n",
       "<style scoped>\n",
       "    .dataframe tbody tr th:only-of-type {\n",
       "        vertical-align: middle;\n",
       "    }\n",
       "\n",
       "    .dataframe tbody tr th {\n",
       "        vertical-align: top;\n",
       "    }\n",
       "\n",
       "    .dataframe thead th {\n",
       "        text-align: right;\n",
       "    }\n",
       "</style>\n",
       "<table border=\"1\" class=\"dataframe\">\n",
       "  <thead>\n",
       "    <tr style=\"text-align: right;\">\n",
       "      <th></th>\n",
       "      <th>id_pokemon</th>\n",
       "      <th>nom_pokemon</th>\n",
       "      <th>taille</th>\n",
       "      <th>poids</th>\n",
       "      <th>Points de vie de base</th>\n",
       "      <th>Attaque de base</th>\n",
       "      <th>Défense de base</th>\n",
       "      <th>Attaque spéciale de base</th>\n",
       "      <th>Défense spéciale de base</th>\n",
       "      <th>Vitesse de base</th>\n",
       "      <th>Type_pokemon1-src</th>\n",
       "    </tr>\n",
       "  </thead>\n",
       "  <tbody>\n",
       "    <tr>\n",
       "      <th>0</th>\n",
       "      <td>378</td>\n",
       "      <td>Regice</td>\n",
       "      <td>1.8 m</td>\n",
       "      <td>175 kg</td>\n",
       "      <td>80</td>\n",
       "      <td>50</td>\n",
       "      <td>100</td>\n",
       "      <td>100</td>\n",
       "      <td>200</td>\n",
       "      <td>50</td>\n",
       "      <td>https://ivpokemon.fr/ressources/images/types/1...</td>\n",
       "    </tr>\n",
       "    <tr>\n",
       "      <th>1</th>\n",
       "      <td>467</td>\n",
       "      <td>Maganon</td>\n",
       "      <td>1.6 m</td>\n",
       "      <td>68 kg</td>\n",
       "      <td>75</td>\n",
       "      <td>95</td>\n",
       "      <td>67</td>\n",
       "      <td>125</td>\n",
       "      <td>95</td>\n",
       "      <td>83</td>\n",
       "      <td>https://ivpokemon.fr/ressources/images/types/1...</td>\n",
       "    </tr>\n",
       "    <tr>\n",
       "      <th>2</th>\n",
       "      <td>660</td>\n",
       "      <td>Excavarenne</td>\n",
       "      <td>1 m</td>\n",
       "      <td>42.4 kg</td>\n",
       "      <td>85</td>\n",
       "      <td>56</td>\n",
       "      <td>77</td>\n",
       "      <td>50</td>\n",
       "      <td>77</td>\n",
       "      <td>78</td>\n",
       "      <td>https://ivpokemon.fr/ressources/images/types/1...</td>\n",
       "    </tr>\n",
       "    <tr>\n",
       "      <th>3</th>\n",
       "      <td>686</td>\n",
       "      <td>Sepiatop</td>\n",
       "      <td>0.4 m</td>\n",
       "      <td>3.5 kg</td>\n",
       "      <td>53</td>\n",
       "      <td>54</td>\n",
       "      <td>53</td>\n",
       "      <td>37</td>\n",
       "      <td>46</td>\n",
       "      <td>45</td>\n",
       "      <td>https://ivpokemon.fr/ressources/images/types/1...</td>\n",
       "    </tr>\n",
       "    <tr>\n",
       "      <th>4</th>\n",
       "      <td>376</td>\n",
       "      <td>Métalosse</td>\n",
       "      <td>1.6 m</td>\n",
       "      <td>550 kg</td>\n",
       "      <td>80</td>\n",
       "      <td>135</td>\n",
       "      <td>130</td>\n",
       "      <td>95</td>\n",
       "      <td>90</td>\n",
       "      <td>70</td>\n",
       "      <td>https://ivpokemon.fr/ressources/images/types/1...</td>\n",
       "    </tr>\n",
       "  </tbody>\n",
       "</table>\n",
       "</div>"
      ],
      "text/plain": [
       "  id_pokemon  nom_pokemon taille    poids  Points de vie de base  \\\n",
       "0        378       Regice  1.8 m   175 kg                     80   \n",
       "1        467      Maganon  1.6 m    68 kg                     75   \n",
       "2        660  Excavarenne    1 m  42.4 kg                     85   \n",
       "3        686     Sepiatop  0.4 m   3.5 kg                     53   \n",
       "4        376    Métalosse  1.6 m   550 kg                     80   \n",
       "\n",
       "   Attaque de base  Défense de base  Attaque spéciale de base  \\\n",
       "0               50              100                       100   \n",
       "1               95               67                       125   \n",
       "2               56               77                        50   \n",
       "3               54               53                        37   \n",
       "4              135              130                        95   \n",
       "\n",
       "   Défense spéciale de base  Vitesse de base  \\\n",
       "0                       200               50   \n",
       "1                        95               83   \n",
       "2                        77               78   \n",
       "3                        46               45   \n",
       "4                        90               70   \n",
       "\n",
       "                                   Type_pokemon1-src  \n",
       "0  https://ivpokemon.fr/ressources/images/types/1...  \n",
       "1  https://ivpokemon.fr/ressources/images/types/1...  \n",
       "2  https://ivpokemon.fr/ressources/images/types/1...  \n",
       "3  https://ivpokemon.fr/ressources/images/types/1...  \n",
       "4  https://ivpokemon.fr/ressources/images/types/1...  "
      ]
     },
     "execution_count": 13,
     "metadata": {},
     "output_type": "execute_result"
    }
   ],
   "source": [
    "df.head()"
   ]
  },
  {
   "cell_type": "code",
   "execution_count": 14,
   "metadata": {},
   "outputs": [],
   "source": [
    "df['taille'] = df['taille'].map(lambda x: x.rstrip('m'))"
   ]
  },
  {
   "cell_type": "code",
   "execution_count": 15,
   "metadata": {},
   "outputs": [
    {
     "data": {
      "text/html": [
       "<div>\n",
       "<style scoped>\n",
       "    .dataframe tbody tr th:only-of-type {\n",
       "        vertical-align: middle;\n",
       "    }\n",
       "\n",
       "    .dataframe tbody tr th {\n",
       "        vertical-align: top;\n",
       "    }\n",
       "\n",
       "    .dataframe thead th {\n",
       "        text-align: right;\n",
       "    }\n",
       "</style>\n",
       "<table border=\"1\" class=\"dataframe\">\n",
       "  <thead>\n",
       "    <tr style=\"text-align: right;\">\n",
       "      <th></th>\n",
       "      <th>id_pokemon</th>\n",
       "      <th>nom_pokemon</th>\n",
       "      <th>taille</th>\n",
       "      <th>poids</th>\n",
       "      <th>Points de vie de base</th>\n",
       "      <th>Attaque de base</th>\n",
       "      <th>Défense de base</th>\n",
       "      <th>Attaque spéciale de base</th>\n",
       "      <th>Défense spéciale de base</th>\n",
       "      <th>Vitesse de base</th>\n",
       "      <th>Type_pokemon1-src</th>\n",
       "    </tr>\n",
       "  </thead>\n",
       "  <tbody>\n",
       "    <tr>\n",
       "      <th>0</th>\n",
       "      <td>378</td>\n",
       "      <td>Regice</td>\n",
       "      <td>1.8</td>\n",
       "      <td>175 kg</td>\n",
       "      <td>80</td>\n",
       "      <td>50</td>\n",
       "      <td>100</td>\n",
       "      <td>100</td>\n",
       "      <td>200</td>\n",
       "      <td>50</td>\n",
       "      <td>https://ivpokemon.fr/ressources/images/types/1...</td>\n",
       "    </tr>\n",
       "    <tr>\n",
       "      <th>1</th>\n",
       "      <td>467</td>\n",
       "      <td>Maganon</td>\n",
       "      <td>1.6</td>\n",
       "      <td>68 kg</td>\n",
       "      <td>75</td>\n",
       "      <td>95</td>\n",
       "      <td>67</td>\n",
       "      <td>125</td>\n",
       "      <td>95</td>\n",
       "      <td>83</td>\n",
       "      <td>https://ivpokemon.fr/ressources/images/types/1...</td>\n",
       "    </tr>\n",
       "    <tr>\n",
       "      <th>2</th>\n",
       "      <td>660</td>\n",
       "      <td>Excavarenne</td>\n",
       "      <td>1</td>\n",
       "      <td>42.4 kg</td>\n",
       "      <td>85</td>\n",
       "      <td>56</td>\n",
       "      <td>77</td>\n",
       "      <td>50</td>\n",
       "      <td>77</td>\n",
       "      <td>78</td>\n",
       "      <td>https://ivpokemon.fr/ressources/images/types/1...</td>\n",
       "    </tr>\n",
       "    <tr>\n",
       "      <th>3</th>\n",
       "      <td>686</td>\n",
       "      <td>Sepiatop</td>\n",
       "      <td>0.4</td>\n",
       "      <td>3.5 kg</td>\n",
       "      <td>53</td>\n",
       "      <td>54</td>\n",
       "      <td>53</td>\n",
       "      <td>37</td>\n",
       "      <td>46</td>\n",
       "      <td>45</td>\n",
       "      <td>https://ivpokemon.fr/ressources/images/types/1...</td>\n",
       "    </tr>\n",
       "    <tr>\n",
       "      <th>4</th>\n",
       "      <td>376</td>\n",
       "      <td>Métalosse</td>\n",
       "      <td>1.6</td>\n",
       "      <td>550 kg</td>\n",
       "      <td>80</td>\n",
       "      <td>135</td>\n",
       "      <td>130</td>\n",
       "      <td>95</td>\n",
       "      <td>90</td>\n",
       "      <td>70</td>\n",
       "      <td>https://ivpokemon.fr/ressources/images/types/1...</td>\n",
       "    </tr>\n",
       "  </tbody>\n",
       "</table>\n",
       "</div>"
      ],
      "text/plain": [
       "  id_pokemon  nom_pokemon taille    poids  Points de vie de base  \\\n",
       "0        378       Regice   1.8    175 kg                     80   \n",
       "1        467      Maganon   1.6     68 kg                     75   \n",
       "2        660  Excavarenne     1   42.4 kg                     85   \n",
       "3        686     Sepiatop   0.4    3.5 kg                     53   \n",
       "4        376    Métalosse   1.6    550 kg                     80   \n",
       "\n",
       "   Attaque de base  Défense de base  Attaque spéciale de base  \\\n",
       "0               50              100                       100   \n",
       "1               95               67                       125   \n",
       "2               56               77                        50   \n",
       "3               54               53                        37   \n",
       "4              135              130                        95   \n",
       "\n",
       "   Défense spéciale de base  Vitesse de base  \\\n",
       "0                       200               50   \n",
       "1                        95               83   \n",
       "2                        77               78   \n",
       "3                        46               45   \n",
       "4                        90               70   \n",
       "\n",
       "                                   Type_pokemon1-src  \n",
       "0  https://ivpokemon.fr/ressources/images/types/1...  \n",
       "1  https://ivpokemon.fr/ressources/images/types/1...  \n",
       "2  https://ivpokemon.fr/ressources/images/types/1...  \n",
       "3  https://ivpokemon.fr/ressources/images/types/1...  \n",
       "4  https://ivpokemon.fr/ressources/images/types/1...  "
      ]
     },
     "execution_count": 15,
     "metadata": {},
     "output_type": "execute_result"
    }
   ],
   "source": [
    "df.head()"
   ]
  },
  {
   "cell_type": "code",
   "execution_count": 16,
   "metadata": {},
   "outputs": [],
   "source": [
    "df['poids'] = df['poids'].map(lambda x: x.rstrip('kg'))"
   ]
  },
  {
   "cell_type": "code",
   "execution_count": 17,
   "metadata": {},
   "outputs": [
    {
     "data": {
      "text/html": [
       "<div>\n",
       "<style scoped>\n",
       "    .dataframe tbody tr th:only-of-type {\n",
       "        vertical-align: middle;\n",
       "    }\n",
       "\n",
       "    .dataframe tbody tr th {\n",
       "        vertical-align: top;\n",
       "    }\n",
       "\n",
       "    .dataframe thead th {\n",
       "        text-align: right;\n",
       "    }\n",
       "</style>\n",
       "<table border=\"1\" class=\"dataframe\">\n",
       "  <thead>\n",
       "    <tr style=\"text-align: right;\">\n",
       "      <th></th>\n",
       "      <th>id_pokemon</th>\n",
       "      <th>nom_pokemon</th>\n",
       "      <th>taille</th>\n",
       "      <th>poids</th>\n",
       "      <th>Points de vie de base</th>\n",
       "      <th>Attaque de base</th>\n",
       "      <th>Défense de base</th>\n",
       "      <th>Attaque spéciale de base</th>\n",
       "      <th>Défense spéciale de base</th>\n",
       "      <th>Vitesse de base</th>\n",
       "      <th>Type_pokemon1-src</th>\n",
       "    </tr>\n",
       "  </thead>\n",
       "  <tbody>\n",
       "    <tr>\n",
       "      <th>0</th>\n",
       "      <td>378</td>\n",
       "      <td>Regice</td>\n",
       "      <td>1.8</td>\n",
       "      <td>175</td>\n",
       "      <td>80</td>\n",
       "      <td>50</td>\n",
       "      <td>100</td>\n",
       "      <td>100</td>\n",
       "      <td>200</td>\n",
       "      <td>50</td>\n",
       "      <td>https://ivpokemon.fr/ressources/images/types/1...</td>\n",
       "    </tr>\n",
       "    <tr>\n",
       "      <th>1</th>\n",
       "      <td>467</td>\n",
       "      <td>Maganon</td>\n",
       "      <td>1.6</td>\n",
       "      <td>68</td>\n",
       "      <td>75</td>\n",
       "      <td>95</td>\n",
       "      <td>67</td>\n",
       "      <td>125</td>\n",
       "      <td>95</td>\n",
       "      <td>83</td>\n",
       "      <td>https://ivpokemon.fr/ressources/images/types/1...</td>\n",
       "    </tr>\n",
       "    <tr>\n",
       "      <th>2</th>\n",
       "      <td>660</td>\n",
       "      <td>Excavarenne</td>\n",
       "      <td>1</td>\n",
       "      <td>42.4</td>\n",
       "      <td>85</td>\n",
       "      <td>56</td>\n",
       "      <td>77</td>\n",
       "      <td>50</td>\n",
       "      <td>77</td>\n",
       "      <td>78</td>\n",
       "      <td>https://ivpokemon.fr/ressources/images/types/1...</td>\n",
       "    </tr>\n",
       "    <tr>\n",
       "      <th>3</th>\n",
       "      <td>686</td>\n",
       "      <td>Sepiatop</td>\n",
       "      <td>0.4</td>\n",
       "      <td>3.5</td>\n",
       "      <td>53</td>\n",
       "      <td>54</td>\n",
       "      <td>53</td>\n",
       "      <td>37</td>\n",
       "      <td>46</td>\n",
       "      <td>45</td>\n",
       "      <td>https://ivpokemon.fr/ressources/images/types/1...</td>\n",
       "    </tr>\n",
       "    <tr>\n",
       "      <th>4</th>\n",
       "      <td>376</td>\n",
       "      <td>Métalosse</td>\n",
       "      <td>1.6</td>\n",
       "      <td>550</td>\n",
       "      <td>80</td>\n",
       "      <td>135</td>\n",
       "      <td>130</td>\n",
       "      <td>95</td>\n",
       "      <td>90</td>\n",
       "      <td>70</td>\n",
       "      <td>https://ivpokemon.fr/ressources/images/types/1...</td>\n",
       "    </tr>\n",
       "  </tbody>\n",
       "</table>\n",
       "</div>"
      ],
      "text/plain": [
       "  id_pokemon  nom_pokemon taille  poids  Points de vie de base  \\\n",
       "0        378       Regice   1.8    175                      80   \n",
       "1        467      Maganon   1.6     68                      75   \n",
       "2        660  Excavarenne     1   42.4                      85   \n",
       "3        686     Sepiatop   0.4    3.5                      53   \n",
       "4        376    Métalosse   1.6    550                      80   \n",
       "\n",
       "   Attaque de base  Défense de base  Attaque spéciale de base  \\\n",
       "0               50              100                       100   \n",
       "1               95               67                       125   \n",
       "2               56               77                        50   \n",
       "3               54               53                        37   \n",
       "4              135              130                        95   \n",
       "\n",
       "   Défense spéciale de base  Vitesse de base  \\\n",
       "0                       200               50   \n",
       "1                        95               83   \n",
       "2                        77               78   \n",
       "3                        46               45   \n",
       "4                        90               70   \n",
       "\n",
       "                                   Type_pokemon1-src  \n",
       "0  https://ivpokemon.fr/ressources/images/types/1...  \n",
       "1  https://ivpokemon.fr/ressources/images/types/1...  \n",
       "2  https://ivpokemon.fr/ressources/images/types/1...  \n",
       "3  https://ivpokemon.fr/ressources/images/types/1...  \n",
       "4  https://ivpokemon.fr/ressources/images/types/1...  "
      ]
     },
     "execution_count": 17,
     "metadata": {},
     "output_type": "execute_result"
    }
   ],
   "source": [
    "df.head()"
   ]
  },
  {
   "cell_type": "markdown",
   "metadata": {},
   "source": [
    "# Modification de la colonne Type pokemon"
   ]
  },
  {
   "cell_type": "code",
   "execution_count": 18,
   "metadata": {},
   "outputs": [],
   "source": [
    "df['Type_pokemon1-src'] = df['Type_pokemon1-src'].str.extract('(\\d+)').astype(int)"
   ]
  },
  {
   "cell_type": "code",
   "execution_count": 19,
   "metadata": {},
   "outputs": [
    {
     "data": {
      "text/html": [
       "<div>\n",
       "<style scoped>\n",
       "    .dataframe tbody tr th:only-of-type {\n",
       "        vertical-align: middle;\n",
       "    }\n",
       "\n",
       "    .dataframe tbody tr th {\n",
       "        vertical-align: top;\n",
       "    }\n",
       "\n",
       "    .dataframe thead th {\n",
       "        text-align: right;\n",
       "    }\n",
       "</style>\n",
       "<table border=\"1\" class=\"dataframe\">\n",
       "  <thead>\n",
       "    <tr style=\"text-align: right;\">\n",
       "      <th></th>\n",
       "      <th>id_pokemon</th>\n",
       "      <th>nom_pokemon</th>\n",
       "      <th>taille</th>\n",
       "      <th>poids</th>\n",
       "      <th>Points de vie de base</th>\n",
       "      <th>Attaque de base</th>\n",
       "      <th>Défense de base</th>\n",
       "      <th>Attaque spéciale de base</th>\n",
       "      <th>Défense spéciale de base</th>\n",
       "      <th>Vitesse de base</th>\n",
       "      <th>Type_pokemon1-src</th>\n",
       "    </tr>\n",
       "  </thead>\n",
       "  <tbody>\n",
       "    <tr>\n",
       "      <th>0</th>\n",
       "      <td>378</td>\n",
       "      <td>Regice</td>\n",
       "      <td>1.8</td>\n",
       "      <td>175</td>\n",
       "      <td>80</td>\n",
       "      <td>50</td>\n",
       "      <td>100</td>\n",
       "      <td>100</td>\n",
       "      <td>200</td>\n",
       "      <td>50</td>\n",
       "      <td>15</td>\n",
       "    </tr>\n",
       "    <tr>\n",
       "      <th>1</th>\n",
       "      <td>467</td>\n",
       "      <td>Maganon</td>\n",
       "      <td>1.6</td>\n",
       "      <td>68</td>\n",
       "      <td>75</td>\n",
       "      <td>95</td>\n",
       "      <td>67</td>\n",
       "      <td>125</td>\n",
       "      <td>95</td>\n",
       "      <td>83</td>\n",
       "      <td>10</td>\n",
       "    </tr>\n",
       "    <tr>\n",
       "      <th>2</th>\n",
       "      <td>660</td>\n",
       "      <td>Excavarenne</td>\n",
       "      <td>1</td>\n",
       "      <td>42.4</td>\n",
       "      <td>85</td>\n",
       "      <td>56</td>\n",
       "      <td>77</td>\n",
       "      <td>50</td>\n",
       "      <td>77</td>\n",
       "      <td>78</td>\n",
       "      <td>1</td>\n",
       "    </tr>\n",
       "    <tr>\n",
       "      <th>3</th>\n",
       "      <td>686</td>\n",
       "      <td>Sepiatop</td>\n",
       "      <td>0.4</td>\n",
       "      <td>3.5</td>\n",
       "      <td>53</td>\n",
       "      <td>54</td>\n",
       "      <td>53</td>\n",
       "      <td>37</td>\n",
       "      <td>46</td>\n",
       "      <td>45</td>\n",
       "      <td>17</td>\n",
       "    </tr>\n",
       "    <tr>\n",
       "      <th>4</th>\n",
       "      <td>376</td>\n",
       "      <td>Métalosse</td>\n",
       "      <td>1.6</td>\n",
       "      <td>550</td>\n",
       "      <td>80</td>\n",
       "      <td>135</td>\n",
       "      <td>130</td>\n",
       "      <td>95</td>\n",
       "      <td>90</td>\n",
       "      <td>70</td>\n",
       "      <td>14</td>\n",
       "    </tr>\n",
       "  </tbody>\n",
       "</table>\n",
       "</div>"
      ],
      "text/plain": [
       "  id_pokemon  nom_pokemon taille  poids  Points de vie de base  \\\n",
       "0        378       Regice   1.8    175                      80   \n",
       "1        467      Maganon   1.6     68                      75   \n",
       "2        660  Excavarenne     1   42.4                      85   \n",
       "3        686     Sepiatop   0.4    3.5                      53   \n",
       "4        376    Métalosse   1.6    550                      80   \n",
       "\n",
       "   Attaque de base  Défense de base  Attaque spéciale de base  \\\n",
       "0               50              100                       100   \n",
       "1               95               67                       125   \n",
       "2               56               77                        50   \n",
       "3               54               53                        37   \n",
       "4              135              130                        95   \n",
       "\n",
       "   Défense spéciale de base  Vitesse de base  Type_pokemon1-src  \n",
       "0                       200               50                 15  \n",
       "1                        95               83                 10  \n",
       "2                        77               78                  1  \n",
       "3                        46               45                 17  \n",
       "4                        90               70                 14  "
      ]
     },
     "execution_count": 19,
     "metadata": {},
     "output_type": "execute_result"
    }
   ],
   "source": [
    "df.head()"
   ]
  },
  {
   "cell_type": "code",
   "execution_count": 20,
   "metadata": {},
   "outputs": [],
   "source": [
    "df = df.rename(columns={'Type_pokemon1-src': 'type_pokemon'})"
   ]
  },
  {
   "cell_type": "markdown",
   "metadata": {},
   "source": [
    "# Modification de Names Index dans le DF"
   ]
  },
  {
   "cell_type": "code",
   "execution_count": 21,
   "metadata": {},
   "outputs": [],
   "source": [
    "df.columns = df.columns.str.lower()"
   ]
  },
  {
   "cell_type": "code",
   "execution_count": 22,
   "metadata": {},
   "outputs": [],
   "source": [
    "df.columns = df.columns.str.replace(' ', '_')"
   ]
  },
  {
   "cell_type": "markdown",
   "metadata": {},
   "source": [
    "# Suppression des doublons"
   ]
  },
  {
   "cell_type": "code",
   "execution_count": 23,
   "metadata": {},
   "outputs": [],
   "source": [
    "df.drop_duplicates(['id_pokemon'], inplace=True)"
   ]
  },
  {
   "cell_type": "code",
   "execution_count": 24,
   "metadata": {},
   "outputs": [
    {
     "data": {
      "text/html": [
       "<div>\n",
       "<style scoped>\n",
       "    .dataframe tbody tr th:only-of-type {\n",
       "        vertical-align: middle;\n",
       "    }\n",
       "\n",
       "    .dataframe tbody tr th {\n",
       "        vertical-align: top;\n",
       "    }\n",
       "\n",
       "    .dataframe thead th {\n",
       "        text-align: right;\n",
       "    }\n",
       "</style>\n",
       "<table border=\"1\" class=\"dataframe\">\n",
       "  <thead>\n",
       "    <tr style=\"text-align: right;\">\n",
       "      <th></th>\n",
       "      <th>id_pokemon</th>\n",
       "      <th>nom_pokemon</th>\n",
       "      <th>taille</th>\n",
       "      <th>poids</th>\n",
       "      <th>points_de_vie_de_base</th>\n",
       "      <th>attaque_de_base</th>\n",
       "      <th>défense_de_base</th>\n",
       "      <th>attaque_spéciale_de_base</th>\n",
       "      <th>défense_spéciale_de_base</th>\n",
       "      <th>vitesse_de_base</th>\n",
       "      <th>type_pokemon</th>\n",
       "    </tr>\n",
       "  </thead>\n",
       "  <tbody>\n",
       "    <tr>\n",
       "      <th>0</th>\n",
       "      <td>378</td>\n",
       "      <td>Regice</td>\n",
       "      <td>1.8</td>\n",
       "      <td>175</td>\n",
       "      <td>80</td>\n",
       "      <td>50</td>\n",
       "      <td>100</td>\n",
       "      <td>100</td>\n",
       "      <td>200</td>\n",
       "      <td>50</td>\n",
       "      <td>15</td>\n",
       "    </tr>\n",
       "    <tr>\n",
       "      <th>1</th>\n",
       "      <td>467</td>\n",
       "      <td>Maganon</td>\n",
       "      <td>1.6</td>\n",
       "      <td>68</td>\n",
       "      <td>75</td>\n",
       "      <td>95</td>\n",
       "      <td>67</td>\n",
       "      <td>125</td>\n",
       "      <td>95</td>\n",
       "      <td>83</td>\n",
       "      <td>10</td>\n",
       "    </tr>\n",
       "    <tr>\n",
       "      <th>2</th>\n",
       "      <td>660</td>\n",
       "      <td>Excavarenne</td>\n",
       "      <td>1</td>\n",
       "      <td>42.4</td>\n",
       "      <td>85</td>\n",
       "      <td>56</td>\n",
       "      <td>77</td>\n",
       "      <td>50</td>\n",
       "      <td>77</td>\n",
       "      <td>78</td>\n",
       "      <td>1</td>\n",
       "    </tr>\n",
       "    <tr>\n",
       "      <th>3</th>\n",
       "      <td>686</td>\n",
       "      <td>Sepiatop</td>\n",
       "      <td>0.4</td>\n",
       "      <td>3.5</td>\n",
       "      <td>53</td>\n",
       "      <td>54</td>\n",
       "      <td>53</td>\n",
       "      <td>37</td>\n",
       "      <td>46</td>\n",
       "      <td>45</td>\n",
       "      <td>17</td>\n",
       "    </tr>\n",
       "    <tr>\n",
       "      <th>4</th>\n",
       "      <td>376</td>\n",
       "      <td>Métalosse</td>\n",
       "      <td>1.6</td>\n",
       "      <td>550</td>\n",
       "      <td>80</td>\n",
       "      <td>135</td>\n",
       "      <td>130</td>\n",
       "      <td>95</td>\n",
       "      <td>90</td>\n",
       "      <td>70</td>\n",
       "      <td>14</td>\n",
       "    </tr>\n",
       "  </tbody>\n",
       "</table>\n",
       "</div>"
      ],
      "text/plain": [
       "  id_pokemon  nom_pokemon taille  poids  points_de_vie_de_base  \\\n",
       "0        378       Regice   1.8    175                      80   \n",
       "1        467      Maganon   1.6     68                      75   \n",
       "2        660  Excavarenne     1   42.4                      85   \n",
       "3        686     Sepiatop   0.4    3.5                      53   \n",
       "4        376    Métalosse   1.6    550                      80   \n",
       "\n",
       "   attaque_de_base  défense_de_base  attaque_spéciale_de_base  \\\n",
       "0               50              100                       100   \n",
       "1               95               67                       125   \n",
       "2               56               77                        50   \n",
       "3               54               53                        37   \n",
       "4              135              130                        95   \n",
       "\n",
       "   défense_spéciale_de_base  vitesse_de_base  type_pokemon  \n",
       "0                       200               50            15  \n",
       "1                        95               83            10  \n",
       "2                        77               78             1  \n",
       "3                        46               45            17  \n",
       "4                        90               70            14  "
      ]
     },
     "execution_count": 24,
     "metadata": {},
     "output_type": "execute_result"
    }
   ],
   "source": [
    "df.head()"
   ]
  },
  {
   "cell_type": "markdown",
   "metadata": {},
   "source": [
    "# Enregistrement du CSV nettoyer"
   ]
  },
  {
   "cell_type": "code",
   "execution_count": 25,
   "metadata": {},
   "outputs": [],
   "source": [
    "df.to_csv('pokemon_csv_nettoyer.csv', sep='\\t', encoding='utf-8')"
   ]
  },
  {
   "cell_type": "markdown",
   "metadata": {},
   "source": [
    "# Connexion à notre base de données + création de la table pokemons"
   ]
  },
  {
   "cell_type": "code",
   "execution_count": 26,
   "metadata": {},
   "outputs": [],
   "source": [
    "import pandas as pd\n",
    "import pymysql\n",
    "from sqlalchemy import create_engine  #crée la connexion à la bdd\n",
    "from sqlalchemy.types import *  #Add des types dans la bdd\n",
    "\n",
    "\n",
    "user = 'root'\n",
    "passw = 'root'\n",
    "host = 'localhost'\n",
    "port = 3306\n",
    "database = 'pokemon'\n",
    "\n",
    "mydb = create_engine(\n",
    "    'mysql+pymysql://' + user + ':' + passw + '@' + host + ':' + str(port) +\n",
    "    '/' + database,\n",
    "    echo=False)\n",
    "\n",
    "# directory = r'C:\\Users\\Administrateur\\Desktop\\PROJET POKEMON !!'  # path of csv file\n",
    "# csvFileName = 'pokemon_csv_nettoyer.csv'\n",
    "\n",
    "# df = pd.read_csv(os.path.join(directory, csvFileName ))"
   ]
  },
  {
   "cell_type": "code",
   "execution_count": 27,
   "metadata": {},
   "outputs": [],
   "source": [
    "df.to_sql(\n",
    "    name='pokemons',\n",
    "    con=mydb,\n",
    "    if_exists='replace',\n",
    "    index=False,\n",
    "    dtype={\n",
    "        'id_pokemon': INT(),\n",
    "        'nom_pokemon': VARCHAR(255),\n",
    "        'taille': NUMERIC(),\n",
    "        'poids': NUMERIC(),\n",
    "        'points_de_vie_de_base': INT(),\n",
    "        'attaque_de_base': INT(),\n",
    "        'défense_de_base': INT(),\n",
    "        'attaque_spéciale_de_base': INT(),\n",
    "        'défense_spéciale_de_base': INT(),\n",
    "        'vitesse_de_base': INT(),\n",
    "        'type_pokemon': INT()\n",
    "    })"
   ]
  },
  {
   "cell_type": "code",
   "execution_count": 28,
   "metadata": {},
   "outputs": [
    {
     "data": {
      "text/html": [
       "<div>\n",
       "<style scoped>\n",
       "    .dataframe tbody tr th:only-of-type {\n",
       "        vertical-align: middle;\n",
       "    }\n",
       "\n",
       "    .dataframe tbody tr th {\n",
       "        vertical-align: top;\n",
       "    }\n",
       "\n",
       "    .dataframe thead th {\n",
       "        text-align: right;\n",
       "    }\n",
       "</style>\n",
       "<table border=\"1\" class=\"dataframe\">\n",
       "  <thead>\n",
       "    <tr style=\"text-align: right;\">\n",
       "      <th></th>\n",
       "      <th>id_pokemon</th>\n",
       "      <th>nom_pokemon</th>\n",
       "      <th>taille</th>\n",
       "      <th>poids</th>\n",
       "      <th>points_de_vie_de_base</th>\n",
       "      <th>attaque_de_base</th>\n",
       "      <th>défense_de_base</th>\n",
       "      <th>attaque_spéciale_de_base</th>\n",
       "      <th>défense_spéciale_de_base</th>\n",
       "      <th>vitesse_de_base</th>\n",
       "      <th>type_pokemon</th>\n",
       "    </tr>\n",
       "  </thead>\n",
       "  <tbody>\n",
       "    <tr>\n",
       "      <th>0</th>\n",
       "      <td>378</td>\n",
       "      <td>Regice</td>\n",
       "      <td>1.8</td>\n",
       "      <td>175</td>\n",
       "      <td>80</td>\n",
       "      <td>50</td>\n",
       "      <td>100</td>\n",
       "      <td>100</td>\n",
       "      <td>200</td>\n",
       "      <td>50</td>\n",
       "      <td>15</td>\n",
       "    </tr>\n",
       "    <tr>\n",
       "      <th>1</th>\n",
       "      <td>467</td>\n",
       "      <td>Maganon</td>\n",
       "      <td>1.6</td>\n",
       "      <td>68</td>\n",
       "      <td>75</td>\n",
       "      <td>95</td>\n",
       "      <td>67</td>\n",
       "      <td>125</td>\n",
       "      <td>95</td>\n",
       "      <td>83</td>\n",
       "      <td>10</td>\n",
       "    </tr>\n",
       "    <tr>\n",
       "      <th>2</th>\n",
       "      <td>660</td>\n",
       "      <td>Excavarenne</td>\n",
       "      <td>1</td>\n",
       "      <td>42.4</td>\n",
       "      <td>85</td>\n",
       "      <td>56</td>\n",
       "      <td>77</td>\n",
       "      <td>50</td>\n",
       "      <td>77</td>\n",
       "      <td>78</td>\n",
       "      <td>1</td>\n",
       "    </tr>\n",
       "    <tr>\n",
       "      <th>3</th>\n",
       "      <td>686</td>\n",
       "      <td>Sepiatop</td>\n",
       "      <td>0.4</td>\n",
       "      <td>3.5</td>\n",
       "      <td>53</td>\n",
       "      <td>54</td>\n",
       "      <td>53</td>\n",
       "      <td>37</td>\n",
       "      <td>46</td>\n",
       "      <td>45</td>\n",
       "      <td>17</td>\n",
       "    </tr>\n",
       "    <tr>\n",
       "      <th>4</th>\n",
       "      <td>376</td>\n",
       "      <td>Métalosse</td>\n",
       "      <td>1.6</td>\n",
       "      <td>550</td>\n",
       "      <td>80</td>\n",
       "      <td>135</td>\n",
       "      <td>130</td>\n",
       "      <td>95</td>\n",
       "      <td>90</td>\n",
       "      <td>70</td>\n",
       "      <td>14</td>\n",
       "    </tr>\n",
       "  </tbody>\n",
       "</table>\n",
       "</div>"
      ],
      "text/plain": [
       "  id_pokemon  nom_pokemon taille  poids  points_de_vie_de_base  \\\n",
       "0        378       Regice   1.8    175                      80   \n",
       "1        467      Maganon   1.6     68                      75   \n",
       "2        660  Excavarenne     1   42.4                      85   \n",
       "3        686     Sepiatop   0.4    3.5                      53   \n",
       "4        376    Métalosse   1.6    550                      80   \n",
       "\n",
       "   attaque_de_base  défense_de_base  attaque_spéciale_de_base  \\\n",
       "0               50              100                       100   \n",
       "1               95               67                       125   \n",
       "2               56               77                        50   \n",
       "3               54               53                        37   \n",
       "4              135              130                        95   \n",
       "\n",
       "   défense_spéciale_de_base  vitesse_de_base  type_pokemon  \n",
       "0                       200               50            15  \n",
       "1                        95               83            10  \n",
       "2                        77               78             1  \n",
       "3                        46               45            17  \n",
       "4                        90               70            14  "
      ]
     },
     "execution_count": 28,
     "metadata": {},
     "output_type": "execute_result"
    }
   ],
   "source": [
    "df.head()"
   ]
  },
  {
   "cell_type": "code",
   "execution_count": 29,
   "metadata": {},
   "outputs": [],
   "source": [
    "pokemon_id = pd.read_sql('SELECT * FROM pokemons where id_pokemon=801', mydb)"
   ]
  },
  {
   "cell_type": "code",
   "execution_count": 30,
   "metadata": {},
   "outputs": [
    {
     "data": {
      "text/html": [
       "<div>\n",
       "<style scoped>\n",
       "    .dataframe tbody tr th:only-of-type {\n",
       "        vertical-align: middle;\n",
       "    }\n",
       "\n",
       "    .dataframe tbody tr th {\n",
       "        vertical-align: top;\n",
       "    }\n",
       "\n",
       "    .dataframe thead th {\n",
       "        text-align: right;\n",
       "    }\n",
       "</style>\n",
       "<table border=\"1\" class=\"dataframe\">\n",
       "  <thead>\n",
       "    <tr style=\"text-align: right;\">\n",
       "      <th></th>\n",
       "      <th>id_pokemon</th>\n",
       "      <th>nom_pokemon</th>\n",
       "      <th>taille</th>\n",
       "      <th>poids</th>\n",
       "      <th>points_de_vie_de_base</th>\n",
       "      <th>attaque_de_base</th>\n",
       "      <th>défense_de_base</th>\n",
       "      <th>attaque_spéciale_de_base</th>\n",
       "      <th>défense_spéciale_de_base</th>\n",
       "      <th>vitesse_de_base</th>\n",
       "      <th>type_pokemon</th>\n",
       "    </tr>\n",
       "  </thead>\n",
       "  <tbody>\n",
       "    <tr>\n",
       "      <th>0</th>\n",
       "      <td>801</td>\n",
       "      <td>Magearna</td>\n",
       "      <td>1.0</td>\n",
       "      <td>81.0</td>\n",
       "      <td>80</td>\n",
       "      <td>95</td>\n",
       "      <td>115</td>\n",
       "      <td>130</td>\n",
       "      <td>115</td>\n",
       "      <td>65</td>\n",
       "      <td>9</td>\n",
       "    </tr>\n",
       "  </tbody>\n",
       "</table>\n",
       "</div>"
      ],
      "text/plain": [
       "   id_pokemon nom_pokemon  taille  poids  points_de_vie_de_base  \\\n",
       "0         801    Magearna     1.0   81.0                     80   \n",
       "\n",
       "   attaque_de_base  défense_de_base  attaque_spéciale_de_base  \\\n",
       "0               95              115                       130   \n",
       "\n",
       "   défense_spéciale_de_base  vitesse_de_base  type_pokemon  \n",
       "0                       115               65             9  "
      ]
     },
     "execution_count": 30,
     "metadata": {},
     "output_type": "execute_result"
    }
   ],
   "source": [
    "pokemon_id"
   ]
  },
  {
   "cell_type": "code",
   "execution_count": 31,
   "metadata": {},
   "outputs": [],
   "source": [
    "# df.sort_values(by=['id_pokemon'])"
   ]
  },
  {
   "cell_type": "code",
   "execution_count": 32,
   "metadata": {},
   "outputs": [],
   "source": [
    "# requete='INSERT INTO test VALUES (?)'\n",
    "# for i in range(1, 4):\n",
    "#     print(i)\n",
    "#     insertion = pd.read_sql(requete,i, mydb)"
   ]
  },
  {
   "cell_type": "markdown",
   "metadata": {},
   "source": [
    "# scraping generation"
   ]
  },
  {
   "cell_type": "markdown",
   "metadata": {},
   "source": [
    "# generation 1"
   ]
  },
  {
   "cell_type": "code",
   "execution_count": 33,
   "metadata": {},
   "outputs": [],
   "source": [
    "df1 = pd.read_html('https://www.pokepedia.fr/Liste_des_Pok%C3%A9mon_par_localisation_dans_les_jeux_vid%C3%A9o_de_la_premi%C3%A8re_g%C3%A9n%C3%A9ration',header=0)[0]"
   ]
  },
  {
   "cell_type": "raw",
   "metadata": {},
   "source": [
    "#######netoyer les donnees"
   ]
  },
  {
   "cell_type": "code",
   "execution_count": 34,
   "metadata": {},
   "outputs": [],
   "source": [
    "df1= df1[['Numéro','Pokémon']]"
   ]
  },
  {
   "cell_type": "code",
   "execution_count": 35,
   "metadata": {},
   "outputs": [
    {
     "data": {
      "text/html": [
       "<div>\n",
       "<style scoped>\n",
       "    .dataframe tbody tr th:only-of-type {\n",
       "        vertical-align: middle;\n",
       "    }\n",
       "\n",
       "    .dataframe tbody tr th {\n",
       "        vertical-align: top;\n",
       "    }\n",
       "\n",
       "    .dataframe thead th {\n",
       "        text-align: right;\n",
       "    }\n",
       "</style>\n",
       "<table border=\"1\" class=\"dataframe\">\n",
       "  <thead>\n",
       "    <tr style=\"text-align: right;\">\n",
       "      <th></th>\n",
       "      <th>Numéro</th>\n",
       "      <th>Pokémon</th>\n",
       "    </tr>\n",
       "  </thead>\n",
       "  <tbody>\n",
       "    <tr>\n",
       "      <th>0</th>\n",
       "      <td>1</td>\n",
       "      <td>Bulbizarre</td>\n",
       "    </tr>\n",
       "    <tr>\n",
       "      <th>1</th>\n",
       "      <td>2</td>\n",
       "      <td>Herbizarre</td>\n",
       "    </tr>\n",
       "    <tr>\n",
       "      <th>2</th>\n",
       "      <td>3</td>\n",
       "      <td>Florizarre</td>\n",
       "    </tr>\n",
       "    <tr>\n",
       "      <th>3</th>\n",
       "      <td>4</td>\n",
       "      <td>Salamèche</td>\n",
       "    </tr>\n",
       "    <tr>\n",
       "      <th>4</th>\n",
       "      <td>5</td>\n",
       "      <td>Reptincel</td>\n",
       "    </tr>\n",
       "  </tbody>\n",
       "</table>\n",
       "</div>"
      ],
      "text/plain": [
       "   Numéro     Pokémon\n",
       "0       1  Bulbizarre\n",
       "1       2  Herbizarre\n",
       "2       3  Florizarre\n",
       "3       4   Salamèche\n",
       "4       5   Reptincel"
      ]
     },
     "execution_count": 35,
     "metadata": {},
     "output_type": "execute_result"
    }
   ],
   "source": [
    "df1.head()"
   ]
  },
  {
   "cell_type": "code",
   "execution_count": 36,
   "metadata": {},
   "outputs": [
    {
     "data": {
      "text/html": [
       "<div>\n",
       "<style scoped>\n",
       "    .dataframe tbody tr th:only-of-type {\n",
       "        vertical-align: middle;\n",
       "    }\n",
       "\n",
       "    .dataframe tbody tr th {\n",
       "        vertical-align: top;\n",
       "    }\n",
       "\n",
       "    .dataframe thead th {\n",
       "        text-align: right;\n",
       "    }\n",
       "</style>\n",
       "<table border=\"1\" class=\"dataframe\">\n",
       "  <thead>\n",
       "    <tr style=\"text-align: right;\">\n",
       "      <th></th>\n",
       "      <th>Numéro</th>\n",
       "      <th>Pokémon</th>\n",
       "    </tr>\n",
       "  </thead>\n",
       "  <tbody>\n",
       "    <tr>\n",
       "      <th>0</th>\n",
       "      <td>1</td>\n",
       "      <td>Bulbizarre</td>\n",
       "    </tr>\n",
       "    <tr>\n",
       "      <th>1</th>\n",
       "      <td>2</td>\n",
       "      <td>Herbizarre</td>\n",
       "    </tr>\n",
       "    <tr>\n",
       "      <th>2</th>\n",
       "      <td>3</td>\n",
       "      <td>Florizarre</td>\n",
       "    </tr>\n",
       "    <tr>\n",
       "      <th>3</th>\n",
       "      <td>4</td>\n",
       "      <td>Salamèche</td>\n",
       "    </tr>\n",
       "    <tr>\n",
       "      <th>4</th>\n",
       "      <td>5</td>\n",
       "      <td>Reptincel</td>\n",
       "    </tr>\n",
       "  </tbody>\n",
       "</table>\n",
       "</div>"
      ],
      "text/plain": [
       "   Numéro     Pokémon\n",
       "0       1  Bulbizarre\n",
       "1       2  Herbizarre\n",
       "2       3  Florizarre\n",
       "3       4   Salamèche\n",
       "4       5   Reptincel"
      ]
     },
     "execution_count": 36,
     "metadata": {},
     "output_type": "execute_result"
    }
   ],
   "source": [
    "df1.head()"
   ]
  },
  {
   "cell_type": "code",
   "execution_count": 37,
   "metadata": {},
   "outputs": [],
   "source": [
    "df1.columns = ['numero','pokemon']"
   ]
  },
  {
   "cell_type": "code",
   "execution_count": 38,
   "metadata": {},
   "outputs": [
    {
     "data": {
      "text/html": [
       "<div>\n",
       "<style scoped>\n",
       "    .dataframe tbody tr th:only-of-type {\n",
       "        vertical-align: middle;\n",
       "    }\n",
       "\n",
       "    .dataframe tbody tr th {\n",
       "        vertical-align: top;\n",
       "    }\n",
       "\n",
       "    .dataframe thead th {\n",
       "        text-align: right;\n",
       "    }\n",
       "</style>\n",
       "<table border=\"1\" class=\"dataframe\">\n",
       "  <thead>\n",
       "    <tr style=\"text-align: right;\">\n",
       "      <th></th>\n",
       "      <th>numero</th>\n",
       "      <th>pokemon</th>\n",
       "    </tr>\n",
       "  </thead>\n",
       "  <tbody>\n",
       "    <tr>\n",
       "      <th>0</th>\n",
       "      <td>1</td>\n",
       "      <td>Bulbizarre</td>\n",
       "    </tr>\n",
       "    <tr>\n",
       "      <th>1</th>\n",
       "      <td>2</td>\n",
       "      <td>Herbizarre</td>\n",
       "    </tr>\n",
       "    <tr>\n",
       "      <th>2</th>\n",
       "      <td>3</td>\n",
       "      <td>Florizarre</td>\n",
       "    </tr>\n",
       "    <tr>\n",
       "      <th>3</th>\n",
       "      <td>4</td>\n",
       "      <td>Salamèche</td>\n",
       "    </tr>\n",
       "    <tr>\n",
       "      <th>4</th>\n",
       "      <td>5</td>\n",
       "      <td>Reptincel</td>\n",
       "    </tr>\n",
       "  </tbody>\n",
       "</table>\n",
       "</div>"
      ],
      "text/plain": [
       "   numero     pokemon\n",
       "0       1  Bulbizarre\n",
       "1       2  Herbizarre\n",
       "2       3  Florizarre\n",
       "3       4   Salamèche\n",
       "4       5   Reptincel"
      ]
     },
     "execution_count": 38,
     "metadata": {},
     "output_type": "execute_result"
    }
   ],
   "source": [
    "df1.head()"
   ]
  },
  {
   "cell_type": "markdown",
   "metadata": {},
   "source": [
    "# generation 2"
   ]
  },
  {
   "cell_type": "code",
   "execution_count": 39,
   "metadata": {},
   "outputs": [],
   "source": [
    "df2 = pd.read_html('https://www.pokepedia.fr/Liste_des_Pok%C3%A9mon_de_la_deuxi%C3%A8me_g%C3%A9n%C3%A9ration',header=0)[0]"
   ]
  },
  {
   "cell_type": "raw",
   "metadata": {},
   "source": [
    "####netoyer les donnees"
   ]
  },
  {
   "cell_type": "code",
   "execution_count": 40,
   "metadata": {},
   "outputs": [],
   "source": [
    "df2 = df2[['Numéro','Nom français']]"
   ]
  },
  {
   "cell_type": "code",
   "execution_count": 41,
   "metadata": {},
   "outputs": [
    {
     "data": {
      "text/html": [
       "<div>\n",
       "<style scoped>\n",
       "    .dataframe tbody tr th:only-of-type {\n",
       "        vertical-align: middle;\n",
       "    }\n",
       "\n",
       "    .dataframe tbody tr th {\n",
       "        vertical-align: top;\n",
       "    }\n",
       "\n",
       "    .dataframe thead th {\n",
       "        text-align: right;\n",
       "    }\n",
       "</style>\n",
       "<table border=\"1\" class=\"dataframe\">\n",
       "  <thead>\n",
       "    <tr style=\"text-align: right;\">\n",
       "      <th></th>\n",
       "      <th>Numéro</th>\n",
       "      <th>Nom français</th>\n",
       "    </tr>\n",
       "  </thead>\n",
       "  <tbody>\n",
       "    <tr>\n",
       "      <th>0</th>\n",
       "      <td>152</td>\n",
       "      <td>Germignon</td>\n",
       "    </tr>\n",
       "    <tr>\n",
       "      <th>1</th>\n",
       "      <td>153</td>\n",
       "      <td>Macronium</td>\n",
       "    </tr>\n",
       "    <tr>\n",
       "      <th>2</th>\n",
       "      <td>154</td>\n",
       "      <td>Méganium</td>\n",
       "    </tr>\n",
       "    <tr>\n",
       "      <th>3</th>\n",
       "      <td>155</td>\n",
       "      <td>Héricendre</td>\n",
       "    </tr>\n",
       "    <tr>\n",
       "      <th>4</th>\n",
       "      <td>156</td>\n",
       "      <td>Feurisson</td>\n",
       "    </tr>\n",
       "  </tbody>\n",
       "</table>\n",
       "</div>"
      ],
      "text/plain": [
       "   Numéro Nom français\n",
       "0     152    Germignon\n",
       "1     153    Macronium\n",
       "2     154     Méganium\n",
       "3     155   Héricendre\n",
       "4     156    Feurisson"
      ]
     },
     "execution_count": 41,
     "metadata": {},
     "output_type": "execute_result"
    }
   ],
   "source": [
    "df2.head()"
   ]
  },
  {
   "cell_type": "code",
   "execution_count": 42,
   "metadata": {},
   "outputs": [],
   "source": [
    "df2.columns = ['numero','nom_français']"
   ]
  },
  {
   "cell_type": "code",
   "execution_count": 43,
   "metadata": {},
   "outputs": [
    {
     "data": {
      "text/html": [
       "<div>\n",
       "<style scoped>\n",
       "    .dataframe tbody tr th:only-of-type {\n",
       "        vertical-align: middle;\n",
       "    }\n",
       "\n",
       "    .dataframe tbody tr th {\n",
       "        vertical-align: top;\n",
       "    }\n",
       "\n",
       "    .dataframe thead th {\n",
       "        text-align: right;\n",
       "    }\n",
       "</style>\n",
       "<table border=\"1\" class=\"dataframe\">\n",
       "  <thead>\n",
       "    <tr style=\"text-align: right;\">\n",
       "      <th></th>\n",
       "      <th>numero</th>\n",
       "      <th>nom_français</th>\n",
       "    </tr>\n",
       "  </thead>\n",
       "  <tbody>\n",
       "    <tr>\n",
       "      <th>0</th>\n",
       "      <td>152</td>\n",
       "      <td>Germignon</td>\n",
       "    </tr>\n",
       "    <tr>\n",
       "      <th>1</th>\n",
       "      <td>153</td>\n",
       "      <td>Macronium</td>\n",
       "    </tr>\n",
       "    <tr>\n",
       "      <th>2</th>\n",
       "      <td>154</td>\n",
       "      <td>Méganium</td>\n",
       "    </tr>\n",
       "    <tr>\n",
       "      <th>3</th>\n",
       "      <td>155</td>\n",
       "      <td>Héricendre</td>\n",
       "    </tr>\n",
       "    <tr>\n",
       "      <th>4</th>\n",
       "      <td>156</td>\n",
       "      <td>Feurisson</td>\n",
       "    </tr>\n",
       "  </tbody>\n",
       "</table>\n",
       "</div>"
      ],
      "text/plain": [
       "   numero nom_français\n",
       "0     152    Germignon\n",
       "1     153    Macronium\n",
       "2     154     Méganium\n",
       "3     155   Héricendre\n",
       "4     156    Feurisson"
      ]
     },
     "execution_count": 43,
     "metadata": {},
     "output_type": "execute_result"
    }
   ],
   "source": [
    "df2.head()"
   ]
  },
  {
   "cell_type": "markdown",
   "metadata": {},
   "source": [
    "# generation 3"
   ]
  },
  {
   "cell_type": "code",
   "execution_count": 44,
   "metadata": {},
   "outputs": [],
   "source": [
    "df3 = pd.read_html('https://www.pokepedia.fr/Liste_des_Pok%C3%A9mon_de_la_troisi%C3%A8me_g%C3%A9n%C3%A9ration',header=0)[0]"
   ]
  },
  {
   "cell_type": "raw",
   "metadata": {},
   "source": [
    "####netoyer les données "
   ]
  },
  {
   "cell_type": "code",
   "execution_count": 45,
   "metadata": {},
   "outputs": [],
   "source": [
    "df3 = df3[['Numéro','Nom français']]"
   ]
  },
  {
   "cell_type": "code",
   "execution_count": 46,
   "metadata": {},
   "outputs": [
    {
     "data": {
      "text/html": [
       "<div>\n",
       "<style scoped>\n",
       "    .dataframe tbody tr th:only-of-type {\n",
       "        vertical-align: middle;\n",
       "    }\n",
       "\n",
       "    .dataframe tbody tr th {\n",
       "        vertical-align: top;\n",
       "    }\n",
       "\n",
       "    .dataframe thead th {\n",
       "        text-align: right;\n",
       "    }\n",
       "</style>\n",
       "<table border=\"1\" class=\"dataframe\">\n",
       "  <thead>\n",
       "    <tr style=\"text-align: right;\">\n",
       "      <th></th>\n",
       "      <th>Numéro</th>\n",
       "      <th>Nom français</th>\n",
       "    </tr>\n",
       "  </thead>\n",
       "  <tbody>\n",
       "    <tr>\n",
       "      <th>0</th>\n",
       "      <td>252</td>\n",
       "      <td>Arcko</td>\n",
       "    </tr>\n",
       "    <tr>\n",
       "      <th>1</th>\n",
       "      <td>253</td>\n",
       "      <td>Massko</td>\n",
       "    </tr>\n",
       "    <tr>\n",
       "      <th>2</th>\n",
       "      <td>254</td>\n",
       "      <td>Jungko</td>\n",
       "    </tr>\n",
       "    <tr>\n",
       "      <th>3</th>\n",
       "      <td>255</td>\n",
       "      <td>Poussifeu</td>\n",
       "    </tr>\n",
       "    <tr>\n",
       "      <th>4</th>\n",
       "      <td>256</td>\n",
       "      <td>Galifeu</td>\n",
       "    </tr>\n",
       "  </tbody>\n",
       "</table>\n",
       "</div>"
      ],
      "text/plain": [
       "   Numéro Nom français\n",
       "0     252        Arcko\n",
       "1     253       Massko\n",
       "2     254       Jungko\n",
       "3     255    Poussifeu\n",
       "4     256      Galifeu"
      ]
     },
     "execution_count": 46,
     "metadata": {},
     "output_type": "execute_result"
    }
   ],
   "source": [
    "df3.head()"
   ]
  },
  {
   "cell_type": "code",
   "execution_count": 47,
   "metadata": {},
   "outputs": [],
   "source": [
    "df3.columns = ['numero','nom_français']"
   ]
  },
  {
   "cell_type": "code",
   "execution_count": 48,
   "metadata": {},
   "outputs": [
    {
     "data": {
      "text/html": [
       "<div>\n",
       "<style scoped>\n",
       "    .dataframe tbody tr th:only-of-type {\n",
       "        vertical-align: middle;\n",
       "    }\n",
       "\n",
       "    .dataframe tbody tr th {\n",
       "        vertical-align: top;\n",
       "    }\n",
       "\n",
       "    .dataframe thead th {\n",
       "        text-align: right;\n",
       "    }\n",
       "</style>\n",
       "<table border=\"1\" class=\"dataframe\">\n",
       "  <thead>\n",
       "    <tr style=\"text-align: right;\">\n",
       "      <th></th>\n",
       "      <th>numero</th>\n",
       "      <th>nom_français</th>\n",
       "    </tr>\n",
       "  </thead>\n",
       "  <tbody>\n",
       "    <tr>\n",
       "      <th>0</th>\n",
       "      <td>252</td>\n",
       "      <td>Arcko</td>\n",
       "    </tr>\n",
       "    <tr>\n",
       "      <th>1</th>\n",
       "      <td>253</td>\n",
       "      <td>Massko</td>\n",
       "    </tr>\n",
       "    <tr>\n",
       "      <th>2</th>\n",
       "      <td>254</td>\n",
       "      <td>Jungko</td>\n",
       "    </tr>\n",
       "    <tr>\n",
       "      <th>3</th>\n",
       "      <td>255</td>\n",
       "      <td>Poussifeu</td>\n",
       "    </tr>\n",
       "    <tr>\n",
       "      <th>4</th>\n",
       "      <td>256</td>\n",
       "      <td>Galifeu</td>\n",
       "    </tr>\n",
       "  </tbody>\n",
       "</table>\n",
       "</div>"
      ],
      "text/plain": [
       "   numero nom_français\n",
       "0     252        Arcko\n",
       "1     253       Massko\n",
       "2     254       Jungko\n",
       "3     255    Poussifeu\n",
       "4     256      Galifeu"
      ]
     },
     "execution_count": 48,
     "metadata": {},
     "output_type": "execute_result"
    }
   ],
   "source": [
    "df3.head()"
   ]
  },
  {
   "cell_type": "markdown",
   "metadata": {},
   "source": [
    "# generation 4"
   ]
  },
  {
   "cell_type": "code",
   "execution_count": 49,
   "metadata": {},
   "outputs": [],
   "source": [
    "df4 = pd.read_html('https://www.pokepedia.fr/Liste_des_Pok%C3%A9mon_de_la_quatri%C3%A8me_g%C3%A9n%C3%A9ration',header=0)[0]"
   ]
  },
  {
   "cell_type": "raw",
   "metadata": {},
   "source": [
    "########### netoyer les donnees"
   ]
  },
  {
   "cell_type": "code",
   "execution_count": 50,
   "metadata": {},
   "outputs": [],
   "source": [
    "df4 = df4[['Numéro','Nom français']]"
   ]
  },
  {
   "cell_type": "code",
   "execution_count": 51,
   "metadata": {},
   "outputs": [
    {
     "data": {
      "text/html": [
       "<div>\n",
       "<style scoped>\n",
       "    .dataframe tbody tr th:only-of-type {\n",
       "        vertical-align: middle;\n",
       "    }\n",
       "\n",
       "    .dataframe tbody tr th {\n",
       "        vertical-align: top;\n",
       "    }\n",
       "\n",
       "    .dataframe thead th {\n",
       "        text-align: right;\n",
       "    }\n",
       "</style>\n",
       "<table border=\"1\" class=\"dataframe\">\n",
       "  <thead>\n",
       "    <tr style=\"text-align: right;\">\n",
       "      <th></th>\n",
       "      <th>Numéro</th>\n",
       "      <th>Nom français</th>\n",
       "    </tr>\n",
       "  </thead>\n",
       "  <tbody>\n",
       "    <tr>\n",
       "      <th>0</th>\n",
       "      <td>387</td>\n",
       "      <td>Tortipouss</td>\n",
       "    </tr>\n",
       "    <tr>\n",
       "      <th>1</th>\n",
       "      <td>388</td>\n",
       "      <td>Boskara</td>\n",
       "    </tr>\n",
       "    <tr>\n",
       "      <th>2</th>\n",
       "      <td>389</td>\n",
       "      <td>Torterra</td>\n",
       "    </tr>\n",
       "    <tr>\n",
       "      <th>3</th>\n",
       "      <td>390</td>\n",
       "      <td>Ouisticram</td>\n",
       "    </tr>\n",
       "    <tr>\n",
       "      <th>4</th>\n",
       "      <td>391</td>\n",
       "      <td>Chimpenfeu</td>\n",
       "    </tr>\n",
       "  </tbody>\n",
       "</table>\n",
       "</div>"
      ],
      "text/plain": [
       "   Numéro Nom français\n",
       "0     387   Tortipouss\n",
       "1     388      Boskara\n",
       "2     389     Torterra\n",
       "3     390   Ouisticram\n",
       "4     391   Chimpenfeu"
      ]
     },
     "execution_count": 51,
     "metadata": {},
     "output_type": "execute_result"
    }
   ],
   "source": [
    "df4.head()"
   ]
  },
  {
   "cell_type": "code",
   "execution_count": 52,
   "metadata": {},
   "outputs": [],
   "source": [
    "df4.columns = ['numero','nom_français']"
   ]
  },
  {
   "cell_type": "code",
   "execution_count": 53,
   "metadata": {},
   "outputs": [
    {
     "data": {
      "text/html": [
       "<div>\n",
       "<style scoped>\n",
       "    .dataframe tbody tr th:only-of-type {\n",
       "        vertical-align: middle;\n",
       "    }\n",
       "\n",
       "    .dataframe tbody tr th {\n",
       "        vertical-align: top;\n",
       "    }\n",
       "\n",
       "    .dataframe thead th {\n",
       "        text-align: right;\n",
       "    }\n",
       "</style>\n",
       "<table border=\"1\" class=\"dataframe\">\n",
       "  <thead>\n",
       "    <tr style=\"text-align: right;\">\n",
       "      <th></th>\n",
       "      <th>numero</th>\n",
       "      <th>nom_français</th>\n",
       "    </tr>\n",
       "  </thead>\n",
       "  <tbody>\n",
       "    <tr>\n",
       "      <th>0</th>\n",
       "      <td>387</td>\n",
       "      <td>Tortipouss</td>\n",
       "    </tr>\n",
       "    <tr>\n",
       "      <th>1</th>\n",
       "      <td>388</td>\n",
       "      <td>Boskara</td>\n",
       "    </tr>\n",
       "    <tr>\n",
       "      <th>2</th>\n",
       "      <td>389</td>\n",
       "      <td>Torterra</td>\n",
       "    </tr>\n",
       "    <tr>\n",
       "      <th>3</th>\n",
       "      <td>390</td>\n",
       "      <td>Ouisticram</td>\n",
       "    </tr>\n",
       "    <tr>\n",
       "      <th>4</th>\n",
       "      <td>391</td>\n",
       "      <td>Chimpenfeu</td>\n",
       "    </tr>\n",
       "  </tbody>\n",
       "</table>\n",
       "</div>"
      ],
      "text/plain": [
       "   numero nom_français\n",
       "0     387   Tortipouss\n",
       "1     388      Boskara\n",
       "2     389     Torterra\n",
       "3     390   Ouisticram\n",
       "4     391   Chimpenfeu"
      ]
     },
     "execution_count": 53,
     "metadata": {},
     "output_type": "execute_result"
    }
   ],
   "source": [
    "df4.head()"
   ]
  },
  {
   "cell_type": "markdown",
   "metadata": {},
   "source": [
    "# generation 5"
   ]
  },
  {
   "cell_type": "code",
   "execution_count": 54,
   "metadata": {},
   "outputs": [],
   "source": [
    "df5 = pd.read_html('https://www.pokepedia.fr/Liste_des_Pok%C3%A9mon_de_la_cinqui%C3%A8me_g%C3%A9n%C3%A9ration',header=0)[0]"
   ]
  },
  {
   "cell_type": "raw",
   "metadata": {},
   "source": [
    "###### netoyer les donnees"
   ]
  },
  {
   "cell_type": "code",
   "execution_count": 55,
   "metadata": {},
   "outputs": [],
   "source": [
    "df5 =df5[['Numéro national','Nom français']]"
   ]
  },
  {
   "cell_type": "code",
   "execution_count": 56,
   "metadata": {},
   "outputs": [
    {
     "data": {
      "text/html": [
       "<div>\n",
       "<style scoped>\n",
       "    .dataframe tbody tr th:only-of-type {\n",
       "        vertical-align: middle;\n",
       "    }\n",
       "\n",
       "    .dataframe tbody tr th {\n",
       "        vertical-align: top;\n",
       "    }\n",
       "\n",
       "    .dataframe thead th {\n",
       "        text-align: right;\n",
       "    }\n",
       "</style>\n",
       "<table border=\"1\" class=\"dataframe\">\n",
       "  <thead>\n",
       "    <tr style=\"text-align: right;\">\n",
       "      <th></th>\n",
       "      <th>Numéro national</th>\n",
       "      <th>Nom français</th>\n",
       "    </tr>\n",
       "  </thead>\n",
       "  <tbody>\n",
       "    <tr>\n",
       "      <th>0</th>\n",
       "      <td>494</td>\n",
       "      <td>Victini</td>\n",
       "    </tr>\n",
       "    <tr>\n",
       "      <th>1</th>\n",
       "      <td>495</td>\n",
       "      <td>Vipélierre</td>\n",
       "    </tr>\n",
       "    <tr>\n",
       "      <th>2</th>\n",
       "      <td>496</td>\n",
       "      <td>Lianaja</td>\n",
       "    </tr>\n",
       "    <tr>\n",
       "      <th>3</th>\n",
       "      <td>497</td>\n",
       "      <td>Majaspic</td>\n",
       "    </tr>\n",
       "    <tr>\n",
       "      <th>4</th>\n",
       "      <td>498</td>\n",
       "      <td>Gruikui</td>\n",
       "    </tr>\n",
       "  </tbody>\n",
       "</table>\n",
       "</div>"
      ],
      "text/plain": [
       "   Numéro national Nom français\n",
       "0              494      Victini\n",
       "1              495   Vipélierre\n",
       "2              496      Lianaja\n",
       "3              497     Majaspic\n",
       "4              498      Gruikui"
      ]
     },
     "execution_count": 56,
     "metadata": {},
     "output_type": "execute_result"
    }
   ],
   "source": [
    "df5.head()"
   ]
  },
  {
   "cell_type": "code",
   "execution_count": 57,
   "metadata": {},
   "outputs": [],
   "source": [
    "df5.columns = ['numero','nom_français']"
   ]
  },
  {
   "cell_type": "code",
   "execution_count": 58,
   "metadata": {},
   "outputs": [
    {
     "data": {
      "text/html": [
       "<div>\n",
       "<style scoped>\n",
       "    .dataframe tbody tr th:only-of-type {\n",
       "        vertical-align: middle;\n",
       "    }\n",
       "\n",
       "    .dataframe tbody tr th {\n",
       "        vertical-align: top;\n",
       "    }\n",
       "\n",
       "    .dataframe thead th {\n",
       "        text-align: right;\n",
       "    }\n",
       "</style>\n",
       "<table border=\"1\" class=\"dataframe\">\n",
       "  <thead>\n",
       "    <tr style=\"text-align: right;\">\n",
       "      <th></th>\n",
       "      <th>numero</th>\n",
       "      <th>nom_français</th>\n",
       "    </tr>\n",
       "  </thead>\n",
       "  <tbody>\n",
       "    <tr>\n",
       "      <th>0</th>\n",
       "      <td>494</td>\n",
       "      <td>Victini</td>\n",
       "    </tr>\n",
       "    <tr>\n",
       "      <th>1</th>\n",
       "      <td>495</td>\n",
       "      <td>Vipélierre</td>\n",
       "    </tr>\n",
       "    <tr>\n",
       "      <th>2</th>\n",
       "      <td>496</td>\n",
       "      <td>Lianaja</td>\n",
       "    </tr>\n",
       "    <tr>\n",
       "      <th>3</th>\n",
       "      <td>497</td>\n",
       "      <td>Majaspic</td>\n",
       "    </tr>\n",
       "    <tr>\n",
       "      <th>4</th>\n",
       "      <td>498</td>\n",
       "      <td>Gruikui</td>\n",
       "    </tr>\n",
       "  </tbody>\n",
       "</table>\n",
       "</div>"
      ],
      "text/plain": [
       "   numero nom_français\n",
       "0     494      Victini\n",
       "1     495   Vipélierre\n",
       "2     496      Lianaja\n",
       "3     497     Majaspic\n",
       "4     498      Gruikui"
      ]
     },
     "execution_count": 58,
     "metadata": {},
     "output_type": "execute_result"
    }
   ],
   "source": [
    "df5.head()"
   ]
  },
  {
   "cell_type": "markdown",
   "metadata": {},
   "source": [
    "# generation 6"
   ]
  },
  {
   "cell_type": "code",
   "execution_count": 59,
   "metadata": {},
   "outputs": [],
   "source": [
    "df6 = pd.read_html('https://www.pokepedia.fr/Liste_des_Pok%C3%A9mon_de_la_sixi%C3%A8me_g%C3%A9n%C3%A9ration',header=0)[0]"
   ]
  },
  {
   "cell_type": "raw",
   "metadata": {},
   "source": [
    "########## netoyer les données "
   ]
  },
  {
   "cell_type": "code",
   "execution_count": 60,
   "metadata": {},
   "outputs": [],
   "source": [
    "df6= df6[['Numéro','Nom français']]"
   ]
  },
  {
   "cell_type": "code",
   "execution_count": 61,
   "metadata": {},
   "outputs": [
    {
     "data": {
      "text/html": [
       "<div>\n",
       "<style scoped>\n",
       "    .dataframe tbody tr th:only-of-type {\n",
       "        vertical-align: middle;\n",
       "    }\n",
       "\n",
       "    .dataframe tbody tr th {\n",
       "        vertical-align: top;\n",
       "    }\n",
       "\n",
       "    .dataframe thead th {\n",
       "        text-align: right;\n",
       "    }\n",
       "</style>\n",
       "<table border=\"1\" class=\"dataframe\">\n",
       "  <thead>\n",
       "    <tr style=\"text-align: right;\">\n",
       "      <th></th>\n",
       "      <th>Numéro</th>\n",
       "      <th>Nom français</th>\n",
       "    </tr>\n",
       "  </thead>\n",
       "  <tbody>\n",
       "    <tr>\n",
       "      <th>0</th>\n",
       "      <td>650</td>\n",
       "      <td>Marisson</td>\n",
       "    </tr>\n",
       "    <tr>\n",
       "      <th>1</th>\n",
       "      <td>651</td>\n",
       "      <td>Boguérisse</td>\n",
       "    </tr>\n",
       "    <tr>\n",
       "      <th>2</th>\n",
       "      <td>652</td>\n",
       "      <td>Blindépique</td>\n",
       "    </tr>\n",
       "    <tr>\n",
       "      <th>3</th>\n",
       "      <td>653</td>\n",
       "      <td>Feunnec</td>\n",
       "    </tr>\n",
       "    <tr>\n",
       "      <th>4</th>\n",
       "      <td>654</td>\n",
       "      <td>Roussil</td>\n",
       "    </tr>\n",
       "  </tbody>\n",
       "</table>\n",
       "</div>"
      ],
      "text/plain": [
       "   Numéro Nom français\n",
       "0     650     Marisson\n",
       "1     651   Boguérisse\n",
       "2     652  Blindépique\n",
       "3     653      Feunnec\n",
       "4     654      Roussil"
      ]
     },
     "execution_count": 61,
     "metadata": {},
     "output_type": "execute_result"
    }
   ],
   "source": [
    "df6.head()"
   ]
  },
  {
   "cell_type": "code",
   "execution_count": 62,
   "metadata": {},
   "outputs": [],
   "source": [
    "df6.columns = ['numero','nom_français']"
   ]
  },
  {
   "cell_type": "code",
   "execution_count": 63,
   "metadata": {},
   "outputs": [
    {
     "data": {
      "text/html": [
       "<div>\n",
       "<style scoped>\n",
       "    .dataframe tbody tr th:only-of-type {\n",
       "        vertical-align: middle;\n",
       "    }\n",
       "\n",
       "    .dataframe tbody tr th {\n",
       "        vertical-align: top;\n",
       "    }\n",
       "\n",
       "    .dataframe thead th {\n",
       "        text-align: right;\n",
       "    }\n",
       "</style>\n",
       "<table border=\"1\" class=\"dataframe\">\n",
       "  <thead>\n",
       "    <tr style=\"text-align: right;\">\n",
       "      <th></th>\n",
       "      <th>numero</th>\n",
       "      <th>nom_français</th>\n",
       "    </tr>\n",
       "  </thead>\n",
       "  <tbody>\n",
       "    <tr>\n",
       "      <th>0</th>\n",
       "      <td>650</td>\n",
       "      <td>Marisson</td>\n",
       "    </tr>\n",
       "    <tr>\n",
       "      <th>1</th>\n",
       "      <td>651</td>\n",
       "      <td>Boguérisse</td>\n",
       "    </tr>\n",
       "    <tr>\n",
       "      <th>2</th>\n",
       "      <td>652</td>\n",
       "      <td>Blindépique</td>\n",
       "    </tr>\n",
       "    <tr>\n",
       "      <th>3</th>\n",
       "      <td>653</td>\n",
       "      <td>Feunnec</td>\n",
       "    </tr>\n",
       "    <tr>\n",
       "      <th>4</th>\n",
       "      <td>654</td>\n",
       "      <td>Roussil</td>\n",
       "    </tr>\n",
       "  </tbody>\n",
       "</table>\n",
       "</div>"
      ],
      "text/plain": [
       "   numero nom_français\n",
       "0     650     Marisson\n",
       "1     651   Boguérisse\n",
       "2     652  Blindépique\n",
       "3     653      Feunnec\n",
       "4     654      Roussil"
      ]
     },
     "execution_count": 63,
     "metadata": {},
     "output_type": "execute_result"
    }
   ],
   "source": [
    "df6.head()"
   ]
  },
  {
   "cell_type": "markdown",
   "metadata": {},
   "source": [
    "# generation 7"
   ]
  },
  {
   "cell_type": "code",
   "execution_count": 64,
   "metadata": {},
   "outputs": [],
   "source": [
    "df7 = pd.read_html('https://www.pokepedia.fr/Liste_des_Pok%C3%A9mon_par_localisation_dans_les_jeux_vid%C3%A9o_de_la_septi%C3%A8me_g%C3%A9n%C3%A9ration',header=0)[0]"
   ]
  },
  {
   "cell_type": "raw",
   "metadata": {},
   "source": [
    "###### netoyer les données"
   ]
  },
  {
   "cell_type": "code",
   "execution_count": 65,
   "metadata": {},
   "outputs": [],
   "source": [
    "df7 = df7[['Pokémon','Rareté']]"
   ]
  },
  {
   "cell_type": "code",
   "execution_count": 66,
   "metadata": {},
   "outputs": [
    {
     "data": {
      "text/html": [
       "<div>\n",
       "<style scoped>\n",
       "    .dataframe tbody tr th:only-of-type {\n",
       "        vertical-align: middle;\n",
       "    }\n",
       "\n",
       "    .dataframe tbody tr th {\n",
       "        vertical-align: top;\n",
       "    }\n",
       "\n",
       "    .dataframe thead th {\n",
       "        text-align: right;\n",
       "    }\n",
       "</style>\n",
       "<table border=\"1\" class=\"dataframe\">\n",
       "  <thead>\n",
       "    <tr style=\"text-align: right;\">\n",
       "      <th></th>\n",
       "      <th>Pokémon</th>\n",
       "      <th>Rareté</th>\n",
       "    </tr>\n",
       "  </thead>\n",
       "  <tbody>\n",
       "    <tr>\n",
       "      <th>0</th>\n",
       "      <td>1</td>\n",
       "      <td>Bulbizarre</td>\n",
       "    </tr>\n",
       "    <tr>\n",
       "      <th>1</th>\n",
       "      <td>2</td>\n",
       "      <td>Herbizarre</td>\n",
       "    </tr>\n",
       "    <tr>\n",
       "      <th>2</th>\n",
       "      <td>3</td>\n",
       "      <td>Florizarre</td>\n",
       "    </tr>\n",
       "    <tr>\n",
       "      <th>3</th>\n",
       "      <td>4</td>\n",
       "      <td>Salamèche</td>\n",
       "    </tr>\n",
       "    <tr>\n",
       "      <th>4</th>\n",
       "      <td>5</td>\n",
       "      <td>Reptincel</td>\n",
       "    </tr>\n",
       "  </tbody>\n",
       "</table>\n",
       "</div>"
      ],
      "text/plain": [
       "   Pokémon      Rareté\n",
       "0        1  Bulbizarre\n",
       "1        2  Herbizarre\n",
       "2        3  Florizarre\n",
       "3        4   Salamèche\n",
       "4        5   Reptincel"
      ]
     },
     "execution_count": 66,
     "metadata": {},
     "output_type": "execute_result"
    }
   ],
   "source": [
    "df7.head()"
   ]
  },
  {
   "cell_type": "code",
   "execution_count": 67,
   "metadata": {},
   "outputs": [],
   "source": [
    "df7.columns = ['numero','nom_français']"
   ]
  },
  {
   "cell_type": "code",
   "execution_count": 68,
   "metadata": {},
   "outputs": [
    {
     "data": {
      "text/html": [
       "<div>\n",
       "<style scoped>\n",
       "    .dataframe tbody tr th:only-of-type {\n",
       "        vertical-align: middle;\n",
       "    }\n",
       "\n",
       "    .dataframe tbody tr th {\n",
       "        vertical-align: top;\n",
       "    }\n",
       "\n",
       "    .dataframe thead th {\n",
       "        text-align: right;\n",
       "    }\n",
       "</style>\n",
       "<table border=\"1\" class=\"dataframe\">\n",
       "  <thead>\n",
       "    <tr style=\"text-align: right;\">\n",
       "      <th></th>\n",
       "      <th>numero</th>\n",
       "      <th>nom_français</th>\n",
       "    </tr>\n",
       "  </thead>\n",
       "  <tbody>\n",
       "    <tr>\n",
       "      <th>0</th>\n",
       "      <td>1</td>\n",
       "      <td>Bulbizarre</td>\n",
       "    </tr>\n",
       "    <tr>\n",
       "      <th>1</th>\n",
       "      <td>2</td>\n",
       "      <td>Herbizarre</td>\n",
       "    </tr>\n",
       "    <tr>\n",
       "      <th>2</th>\n",
       "      <td>3</td>\n",
       "      <td>Florizarre</td>\n",
       "    </tr>\n",
       "    <tr>\n",
       "      <th>3</th>\n",
       "      <td>4</td>\n",
       "      <td>Salamèche</td>\n",
       "    </tr>\n",
       "    <tr>\n",
       "      <th>4</th>\n",
       "      <td>5</td>\n",
       "      <td>Reptincel</td>\n",
       "    </tr>\n",
       "  </tbody>\n",
       "</table>\n",
       "</div>"
      ],
      "text/plain": [
       "   numero nom_français\n",
       "0       1   Bulbizarre\n",
       "1       2   Herbizarre\n",
       "2       3   Florizarre\n",
       "3       4    Salamèche\n",
       "4       5    Reptincel"
      ]
     },
     "execution_count": 68,
     "metadata": {},
     "output_type": "execute_result"
    }
   ],
   "source": [
    "df7.head()"
   ]
  },
  {
   "cell_type": "markdown",
   "metadata": {},
   "source": [
    "# Creation des tables génération des pokemons"
   ]
  },
  {
   "cell_type": "markdown",
   "metadata": {},
   "source": [
    "# generation_1"
   ]
  },
  {
   "cell_type": "code",
   "execution_count": 69,
   "metadata": {},
   "outputs": [],
   "source": [
    "#df_generation_1"
   ]
  },
  {
   "cell_type": "code",
   "execution_count": 70,
   "metadata": {},
   "outputs": [],
   "source": [
    "#rows = []\n",
    "#nom_columns = ['id_pokemon']\n",
    "\n",
    "#for i in range(1, 152):\n",
    "  #  row = [i]\n",
    "  #  rows.append(row)\n",
    "\n",
    "#df_generation_1 = pd.DataFrame(rows, columns=nom_columns)"
   ]
  },
  {
   "cell_type": "code",
   "execution_count": 71,
   "metadata": {},
   "outputs": [],
   "source": [
    "#df_generation_1.to_sql(\n",
    "   # name='generation_1',\n",
    "    #con=mydb,\n",
    "  #  if_exists='replace',\n",
    "   # index=False,\n",
    "   # dtype={\"id_pokemon\": Integer()})"
   ]
  },
  {
   "cell_type": "code",
   "execution_count": 72,
   "metadata": {},
   "outputs": [],
   "source": [
    "df1.to_sql(name='generation_1',con=mydb,if_exists='replace',index=False,dtype={'numero':INT(),'pokemon':VARCHAR(255)})"
   ]
  },
  {
   "cell_type": "markdown",
   "metadata": {},
   "source": [
    "# generation_2"
   ]
  },
  {
   "cell_type": "code",
   "execution_count": 73,
   "metadata": {},
   "outputs": [],
   "source": [
    "#rows = []\n",
    "#nom_columns = ['id_pokemon']\n",
    "\n",
    "#for i in range(152, 252):\n",
    "   # row = [i]\n",
    "   # rows.append(row)\n",
    "\n",
    "#df_generation_2 = pd.DataFrame(rows, columns=nom_columns)"
   ]
  },
  {
   "cell_type": "code",
   "execution_count": 74,
   "metadata": {},
   "outputs": [],
   "source": [
    "#df_generation_2"
   ]
  },
  {
   "cell_type": "code",
   "execution_count": 75,
   "metadata": {},
   "outputs": [],
   "source": [
    "#df_generation_2.to_sql(\n",
    "  #  name='generation_2',\n",
    "    #con=mydb,\n",
    "  #  if_exists='replace',\n",
    "   # index=False,\n",
    "    #dtype={\"id_pokemon\": Integer()})"
   ]
  },
  {
   "cell_type": "code",
   "execution_count": 76,
   "metadata": {},
   "outputs": [],
   "source": [
    "df2.to_sql(name='generation_2',con=mydb,if_exists='replace',index=False,dtype={'numero':INT(),'nom_français':VARCHAR(255)})"
   ]
  },
  {
   "cell_type": "markdown",
   "metadata": {},
   "source": [
    "# generation_3"
   ]
  },
  {
   "cell_type": "code",
   "execution_count": 77,
   "metadata": {},
   "outputs": [],
   "source": [
    "#rows = []\n",
    "#nom_columns = ['id_pokemon']\n",
    "\n",
    "#for i in range(252, 387):\n",
    "   # row = [i]\n",
    "   # rows.append(row)\n",
    "\n",
    "#df_generation_3 = pd.DataFrame(rows, columns=nom_columns)"
   ]
  },
  {
   "cell_type": "code",
   "execution_count": 78,
   "metadata": {},
   "outputs": [],
   "source": [
    "#df_generation_3"
   ]
  },
  {
   "cell_type": "code",
   "execution_count": 79,
   "metadata": {},
   "outputs": [],
   "source": [
    "#df_generation_3.to_sql(\n",
    "   # name='generation_3',\n",
    "    #con=mydb,\n",
    "   # if_exists='replace',\n",
    "   # index=False,\n",
    "   # dtype={'id_pokemon': INT()})"
   ]
  },
  {
   "cell_type": "code",
   "execution_count": 80,
   "metadata": {},
   "outputs": [],
   "source": [
    "df3.to_sql(name='generation_3',con=mydb,if_exists='replace',index=False,dtype={'numero':INT(),'nom_français':VARCHAR(255)})"
   ]
  },
  {
   "cell_type": "markdown",
   "metadata": {},
   "source": [
    "# generation_4"
   ]
  },
  {
   "cell_type": "code",
   "execution_count": 81,
   "metadata": {},
   "outputs": [],
   "source": [
    "# rows = []\n",
    "#nom_columns = ['id_pokemon']\n",
    "\n",
    "#for i in range(387, 494):\n",
    "   # row = [i]\n",
    "    #rows.append(row)\n",
    "\n",
    "#df_generation_4 = pd.DataFrame(rows, columns=nom_columns)"
   ]
  },
  {
   "cell_type": "code",
   "execution_count": 82,
   "metadata": {},
   "outputs": [],
   "source": [
    "#df_generation_4"
   ]
  },
  {
   "cell_type": "code",
   "execution_count": 83,
   "metadata": {},
   "outputs": [],
   "source": [
    "#df_generation_4.to_sql(\n",
    "  #  name='generation_4',\n",
    " #   con=mydb,\n",
    "  ##  if_exists='replace',\n",
    " #   index=False,\n",
    "  #  dtype={'id_pokemon': INT()})"
   ]
  },
  {
   "cell_type": "code",
   "execution_count": 84,
   "metadata": {},
   "outputs": [],
   "source": [
    "df4.to_sql(name='generation_4',con=mydb,if_exists='replace',index=False,dtype={'numero':INT(),'nom_français':VARCHAR(255)})"
   ]
  },
  {
   "cell_type": "markdown",
   "metadata": {},
   "source": [
    "# generation_5"
   ]
  },
  {
   "cell_type": "code",
   "execution_count": 85,
   "metadata": {},
   "outputs": [],
   "source": [
    "#rows = []\n",
    "#nom_columns = ['id_pokemon']\n",
    "\n",
    "#for i in range(494, 650):\n",
    "  #  row = [i]\n",
    "  #  rows.append(row)\n",
    "\n",
    "#df_generation_5 = pd.DataFrame(rows, columns=nom_columns)"
   ]
  },
  {
   "cell_type": "code",
   "execution_count": 86,
   "metadata": {},
   "outputs": [],
   "source": [
    "#df_generation_5"
   ]
  },
  {
   "cell_type": "code",
   "execution_count": 87,
   "metadata": {},
   "outputs": [],
   "source": [
    "#df_generation_5.to_sql(\n",
    "   # name='generation_5',\n",
    "   # con=mydb,\n",
    "   # if_exists='replace',\n",
    "   # index=False,\n",
    "    #dtype={'id_pokemon': INT()})"
   ]
  },
  {
   "cell_type": "code",
   "execution_count": 88,
   "metadata": {},
   "outputs": [],
   "source": [
    "df5.to_sql(name='generation_5',con=mydb,if_exists='replace',index=False,dtype={'numero':INT(),'nom_français':VARCHAR(255)})"
   ]
  },
  {
   "cell_type": "markdown",
   "metadata": {},
   "source": [
    "# generation_6"
   ]
  },
  {
   "cell_type": "code",
   "execution_count": 89,
   "metadata": {},
   "outputs": [],
   "source": [
    "#rows = []\n",
    "#nom_columns = ['id_pokemon']\n",
    "\n",
    "#for i in range(650, 722):\n",
    "   # row = [i]\n",
    "    #rows.append(row)\n",
    "\n",
    "#df_generation_6 = pd.DataFrame(rows, columns=nom_columns)"
   ]
  },
  {
   "cell_type": "code",
   "execution_count": 90,
   "metadata": {},
   "outputs": [],
   "source": [
    "#df_generation_6"
   ]
  },
  {
   "cell_type": "code",
   "execution_count": 91,
   "metadata": {},
   "outputs": [],
   "source": [
    "#df_generation_6.to_sql(\n",
    "  #  name='generation_6',\n",
    "  #  con=mydb,\n",
    "  #  if_exists='replace',\n",
    "   # index=False,\n",
    "   # dtype={'id_pokemon': INT()})"
   ]
  },
  {
   "cell_type": "code",
   "execution_count": 92,
   "metadata": {},
   "outputs": [],
   "source": [
    "df6.to_sql(name='generation_6',con=mydb,if_exists='replace',index=False,dtype={'numero':INT(),'nom_français':VARCHAR(255)})"
   ]
  },
  {
   "cell_type": "markdown",
   "metadata": {},
   "source": [
    "# generation_7"
   ]
  },
  {
   "cell_type": "code",
   "execution_count": 93,
   "metadata": {},
   "outputs": [],
   "source": [
    "#rows = []\n",
    "#nom_columns = ['id_pokemon']\n",
    "\n",
    "#for i in range(722, 802):\n",
    "   # row = [i]\n",
    "   # rows.append(row)\n",
    "\n",
    "#df_generation_7 = pd.DataFrame(rows, columns=nom_columns)"
   ]
  },
  {
   "cell_type": "code",
   "execution_count": 94,
   "metadata": {},
   "outputs": [],
   "source": [
    "#df_generation_7"
   ]
  },
  {
   "cell_type": "code",
   "execution_count": 95,
   "metadata": {},
   "outputs": [],
   "source": [
    "#df_generation_7.to_sql(\n",
    "    #name='generation_7',\n",
    "  #  con=mydb,\n",
    "   ## if_exists='replace',\n",
    "   # index=False,\n",
    "  #  dtype={'id_pokemon': INT()})"
   ]
  },
  {
   "cell_type": "code",
   "execution_count": 96,
   "metadata": {},
   "outputs": [],
   "source": [
    "df7.to_sql(name='generation_7',con=mydb,if_exists='replace',index=False,dtype={'numero':INT(),'nom_français':VARCHAR(255)})"
   ]
  },
  {
   "cell_type": "markdown",
   "metadata": {},
   "source": [
    "# Creation de la table utilisateur/player"
   ]
  },
  {
   "cell_type": "code",
   "execution_count": 97,
   "metadata": {},
   "outputs": [],
   "source": [
    "dic1 = {\n",
    "    'id_player': [1, 2, 3, 4, 5],\n",
    "    'nom': ['William', 'Bukhary', 'Miguel', 'Alex', 'Kerian'],\n",
    "    'prenom': ['Pollet', 'Raed', 'Nasim', 'Ludvoic', 'Kevin'],\n",
    "    'address': [\n",
    "        'william@gmail.com', 'Bukhary@gmail.com', 'Miguel@gmail.com',\n",
    "        'Alex@gmail.com', 'Kerian@gmail.com'\n",
    "    ],\n",
    "    'ville': ['Paris', 'Nantes', 'Koln', 'Los Anglos', 'Miami']\n",
    "}\n",
    "player = pd.DataFrame(\n",
    "    dic1, columns=['id_player', 'nom', 'prenom', 'address', 'ville'])"
   ]
  },
  {
   "cell_type": "code",
   "execution_count": 98,
   "metadata": {},
   "outputs": [
    {
     "data": {
      "text/html": [
       "<div>\n",
       "<style scoped>\n",
       "    .dataframe tbody tr th:only-of-type {\n",
       "        vertical-align: middle;\n",
       "    }\n",
       "\n",
       "    .dataframe tbody tr th {\n",
       "        vertical-align: top;\n",
       "    }\n",
       "\n",
       "    .dataframe thead th {\n",
       "        text-align: right;\n",
       "    }\n",
       "</style>\n",
       "<table border=\"1\" class=\"dataframe\">\n",
       "  <thead>\n",
       "    <tr style=\"text-align: right;\">\n",
       "      <th></th>\n",
       "      <th>id_player</th>\n",
       "      <th>nom</th>\n",
       "      <th>prenom</th>\n",
       "      <th>address</th>\n",
       "      <th>ville</th>\n",
       "    </tr>\n",
       "  </thead>\n",
       "  <tbody>\n",
       "    <tr>\n",
       "      <th>0</th>\n",
       "      <td>1</td>\n",
       "      <td>William</td>\n",
       "      <td>Pollet</td>\n",
       "      <td>william@gmail.com</td>\n",
       "      <td>Paris</td>\n",
       "    </tr>\n",
       "    <tr>\n",
       "      <th>1</th>\n",
       "      <td>2</td>\n",
       "      <td>Bukhary</td>\n",
       "      <td>Raed</td>\n",
       "      <td>Bukhary@gmail.com</td>\n",
       "      <td>Nantes</td>\n",
       "    </tr>\n",
       "    <tr>\n",
       "      <th>2</th>\n",
       "      <td>3</td>\n",
       "      <td>Miguel</td>\n",
       "      <td>Nasim</td>\n",
       "      <td>Miguel@gmail.com</td>\n",
       "      <td>Koln</td>\n",
       "    </tr>\n",
       "    <tr>\n",
       "      <th>3</th>\n",
       "      <td>4</td>\n",
       "      <td>Alex</td>\n",
       "      <td>Ludvoic</td>\n",
       "      <td>Alex@gmail.com</td>\n",
       "      <td>Los Anglos</td>\n",
       "    </tr>\n",
       "    <tr>\n",
       "      <th>4</th>\n",
       "      <td>5</td>\n",
       "      <td>Kerian</td>\n",
       "      <td>Kevin</td>\n",
       "      <td>Kerian@gmail.com</td>\n",
       "      <td>Miami</td>\n",
       "    </tr>\n",
       "  </tbody>\n",
       "</table>\n",
       "</div>"
      ],
      "text/plain": [
       "   id_player      nom   prenom            address       ville\n",
       "0          1  William   Pollet  william@gmail.com       Paris\n",
       "1          2  Bukhary     Raed  Bukhary@gmail.com      Nantes\n",
       "2          3   Miguel    Nasim   Miguel@gmail.com        Koln\n",
       "3          4     Alex  Ludvoic     Alex@gmail.com  Los Anglos\n",
       "4          5   Kerian    Kevin   Kerian@gmail.com       Miami"
      ]
     },
     "execution_count": 98,
     "metadata": {},
     "output_type": "execute_result"
    }
   ],
   "source": [
    "player"
   ]
  },
  {
   "cell_type": "code",
   "execution_count": 99,
   "metadata": {},
   "outputs": [],
   "source": [
    "df.to_sql(\n",
    "    name='table_player',\n",
    "    con=mydb,\n",
    "    if_exists='replace',\n",
    "    index=False,\n",
    "    dtype={\n",
    "        'id_player': INT(),\n",
    "        'nom': VARCHAR(255),\n",
    "        'prenom': VARCHAR(255),\n",
    "        'adresse': VARCHAR(255),\n",
    "        'email': VARCHAR(255)\n",
    "    })"
   ]
  },
  {
   "cell_type": "markdown",
   "metadata": {},
   "source": [
    "# Creation de la table type pokemon + nom du type"
   ]
  },
  {
   "cell_type": "code",
   "execution_count": 100,
   "metadata": {},
   "outputs": [],
   "source": [
    "dic = {\n",
    "    'tee': 1,\n",
    "    'normal': 2,\n",
    "    'combat': 3,\n",
    "    'vol': 4,\n",
    "    'poison': 5,\n",
    "    'sol': 6,\n",
    "    'roch': 7,\n",
    "    'insecte': 8,\n",
    "    'spectre': 9,\n",
    "    'acier': 10,\n",
    "    'feu': 11,\n",
    "    'eau': 12,\n",
    "    'plante': 13,\n",
    "    'electrique': 14,\n",
    "    'psy': 15,\n",
    "    'glace': 16,\n",
    "    'drogon': 17,\n",
    "    'tenebres': 18\n",
    "}"
   ]
  },
  {
   "cell_type": "code",
   "execution_count": 101,
   "metadata": {},
   "outputs": [],
   "source": [
    "df_type = pd.DataFrame(\n",
    "    {\n",
    "        'id': [1, 2, 3, 4, 5, 6, 7, 8, 9, 10, 11, 12, 13, 14, 15, 16, 17, 18],\n",
    "        'nom_du_type': [\n",
    "            'tee', 'normal', 'combat', 'vol', 'poison', 'sol', 'roch',\n",
    "            'insecte', 'spectre', 'acier', 'feu', 'eau', 'plante',\n",
    "            'electrique', 'psy', 'glace', 'drogon', 'tenebres'\n",
    "        ]\n",
    "    },\n",
    "    columns=['id', 'nom_du_type'])"
   ]
  },
  {
   "cell_type": "code",
   "execution_count": 102,
   "metadata": {},
   "outputs": [
    {
     "data": {
      "text/html": [
       "<div>\n",
       "<style scoped>\n",
       "    .dataframe tbody tr th:only-of-type {\n",
       "        vertical-align: middle;\n",
       "    }\n",
       "\n",
       "    .dataframe tbody tr th {\n",
       "        vertical-align: top;\n",
       "    }\n",
       "\n",
       "    .dataframe thead th {\n",
       "        text-align: right;\n",
       "    }\n",
       "</style>\n",
       "<table border=\"1\" class=\"dataframe\">\n",
       "  <thead>\n",
       "    <tr style=\"text-align: right;\">\n",
       "      <th></th>\n",
       "      <th>id</th>\n",
       "      <th>nom_du_type</th>\n",
       "    </tr>\n",
       "  </thead>\n",
       "  <tbody>\n",
       "    <tr>\n",
       "      <th>0</th>\n",
       "      <td>1</td>\n",
       "      <td>tee</td>\n",
       "    </tr>\n",
       "    <tr>\n",
       "      <th>1</th>\n",
       "      <td>2</td>\n",
       "      <td>normal</td>\n",
       "    </tr>\n",
       "    <tr>\n",
       "      <th>2</th>\n",
       "      <td>3</td>\n",
       "      <td>combat</td>\n",
       "    </tr>\n",
       "    <tr>\n",
       "      <th>3</th>\n",
       "      <td>4</td>\n",
       "      <td>vol</td>\n",
       "    </tr>\n",
       "    <tr>\n",
       "      <th>4</th>\n",
       "      <td>5</td>\n",
       "      <td>poison</td>\n",
       "    </tr>\n",
       "  </tbody>\n",
       "</table>\n",
       "</div>"
      ],
      "text/plain": [
       "   id nom_du_type\n",
       "0   1         tee\n",
       "1   2      normal\n",
       "2   3      combat\n",
       "3   4         vol\n",
       "4   5      poison"
      ]
     },
     "execution_count": 102,
     "metadata": {},
     "output_type": "execute_result"
    }
   ],
   "source": [
    "df_type.head()"
   ]
  },
  {
   "cell_type": "code",
   "execution_count": 103,
   "metadata": {},
   "outputs": [],
   "source": [
    "df_type.to_sql(\n",
    "    name='type_pokemon',\n",
    "    con=mydb,\n",
    "    if_exists='replace',\n",
    "    index=False,\n",
    "    dtype={\n",
    "        'id': INT(),\n",
    "        'nom_du_type': VARCHAR(255)\n",
    "    })"
   ]
  },
  {
   "cell_type": "markdown",
   "metadata": {},
   "source": [
    "# Requetes demander pour la dataViz"
   ]
  },
  {
   "cell_type": "markdown",
   "metadata": {},
   "source": [
    "## Requete SQL attaque Pokemon"
   ]
  },
  {
   "cell_type": "code",
   "execution_count": 104,
   "metadata": {},
   "outputs": [],
   "source": [
    "pokemon_max_attaque = pd.read_sql(\n",
    "    'select nom_pokemon,attaque_de_base from pokemons where attaque_de_base = (select max(attaque_de_base)from pokemons)',\n",
    "    mydb)"
   ]
  },
  {
   "cell_type": "code",
   "execution_count": 105,
   "metadata": {},
   "outputs": [
    {
     "data": {
      "text/html": [
       "<div>\n",
       "<style scoped>\n",
       "    .dataframe tbody tr th:only-of-type {\n",
       "        vertical-align: middle;\n",
       "    }\n",
       "\n",
       "    .dataframe tbody tr th {\n",
       "        vertical-align: top;\n",
       "    }\n",
       "\n",
       "    .dataframe thead th {\n",
       "        text-align: right;\n",
       "    }\n",
       "</style>\n",
       "<table border=\"1\" class=\"dataframe\">\n",
       "  <thead>\n",
       "    <tr style=\"text-align: right;\">\n",
       "      <th></th>\n",
       "      <th>nom_pokemon</th>\n",
       "      <th>attaque_de_base</th>\n",
       "    </tr>\n",
       "  </thead>\n",
       "  <tbody>\n",
       "    <tr>\n",
       "      <th>0</th>\n",
       "      <td>Katagami</td>\n",
       "      <td>181</td>\n",
       "    </tr>\n",
       "  </tbody>\n",
       "</table>\n",
       "</div>"
      ],
      "text/plain": [
       "  nom_pokemon  attaque_de_base\n",
       "0    Katagami              181"
      ]
     },
     "execution_count": 105,
     "metadata": {},
     "output_type": "execute_result"
    }
   ],
   "source": [
    "pokemon_max_attaque"
   ]
  },
  {
   "cell_type": "code",
   "execution_count": 106,
   "metadata": {},
   "outputs": [],
   "source": [
    "pokemon_min_attaque = pd.read_sql(\n",
    "    'select nom_pokemon,attaque_de_base from pokemons where attaque_de_base = (select min(attaque_de_base)from pokemons)',\n",
    "    mydb)"
   ]
  },
  {
   "cell_type": "code",
   "execution_count": 107,
   "metadata": {},
   "outputs": [
    {
     "data": {
      "text/html": [
       "<div>\n",
       "<style scoped>\n",
       "    .dataframe tbody tr th:only-of-type {\n",
       "        vertical-align: middle;\n",
       "    }\n",
       "\n",
       "    .dataframe tbody tr th {\n",
       "        vertical-align: top;\n",
       "    }\n",
       "\n",
       "    .dataframe thead th {\n",
       "        text-align: right;\n",
       "    }\n",
       "</style>\n",
       "<table border=\"1\" class=\"dataframe\">\n",
       "  <thead>\n",
       "    <tr style=\"text-align: right;\">\n",
       "      <th></th>\n",
       "      <th>nom_pokemon</th>\n",
       "      <th>attaque_de_base</th>\n",
       "    </tr>\n",
       "  </thead>\n",
       "  <tbody>\n",
       "    <tr>\n",
       "      <th>0</th>\n",
       "      <td>Ptiravi</td>\n",
       "      <td>5</td>\n",
       "    </tr>\n",
       "    <tr>\n",
       "      <th>1</th>\n",
       "      <td>Leveinard</td>\n",
       "      <td>5</td>\n",
       "    </tr>\n",
       "  </tbody>\n",
       "</table>\n",
       "</div>"
      ],
      "text/plain": [
       "  nom_pokemon  attaque_de_base\n",
       "0     Ptiravi                5\n",
       "1   Leveinard                5"
      ]
     },
     "execution_count": 107,
     "metadata": {},
     "output_type": "execute_result"
    }
   ],
   "source": [
    "pokemon_min_attaque"
   ]
  },
  {
   "cell_type": "markdown",
   "metadata": {},
   "source": [
    "## Requete SQL defense pokemon"
   ]
  },
  {
   "cell_type": "code",
   "execution_count": 108,
   "metadata": {},
   "outputs": [],
   "source": [
    "pokemon_max_defense = pd.read_sql(\n",
    "    'select nom_pokemon,défense_de_base from pokemons where défense_de_base = (select max(défense_de_base)from pokemons)',\n",
    "    mydb)"
   ]
  },
  {
   "cell_type": "code",
   "execution_count": 109,
   "metadata": {},
   "outputs": [
    {
     "data": {
      "text/html": [
       "<div>\n",
       "<style scoped>\n",
       "    .dataframe tbody tr th:only-of-type {\n",
       "        vertical-align: middle;\n",
       "    }\n",
       "\n",
       "    .dataframe tbody tr th {\n",
       "        vertical-align: top;\n",
       "    }\n",
       "\n",
       "    .dataframe thead th {\n",
       "        text-align: right;\n",
       "    }\n",
       "</style>\n",
       "<table border=\"1\" class=\"dataframe\">\n",
       "  <thead>\n",
       "    <tr style=\"text-align: right;\">\n",
       "      <th></th>\n",
       "      <th>nom_pokemon</th>\n",
       "      <th>défense_de_base</th>\n",
       "    </tr>\n",
       "  </thead>\n",
       "  <tbody>\n",
       "    <tr>\n",
       "      <th>0</th>\n",
       "      <td>Caratroc</td>\n",
       "      <td>230</td>\n",
       "    </tr>\n",
       "  </tbody>\n",
       "</table>\n",
       "</div>"
      ],
      "text/plain": [
       "  nom_pokemon  défense_de_base\n",
       "0    Caratroc              230"
      ]
     },
     "execution_count": 109,
     "metadata": {},
     "output_type": "execute_result"
    }
   ],
   "source": [
    "pokemon_max_defense"
   ]
  },
  {
   "cell_type": "code",
   "execution_count": 110,
   "metadata": {},
   "outputs": [],
   "source": [
    "pokemon_min_defense = pd.read_sql(\n",
    "    'select nom_pokemon,défense_de_base from pokemons where défense_de_base = (select min(défense_de_base)from pokemons)',\n",
    "    mydb)"
   ]
  },
  {
   "cell_type": "code",
   "execution_count": 111,
   "metadata": {},
   "outputs": [
    {
     "data": {
      "text/html": [
       "<div>\n",
       "<style scoped>\n",
       "    .dataframe tbody tr th:only-of-type {\n",
       "        vertical-align: middle;\n",
       "    }\n",
       "\n",
       "    .dataframe tbody tr th {\n",
       "        vertical-align: top;\n",
       "    }\n",
       "\n",
       "    .dataframe thead th {\n",
       "        text-align: right;\n",
       "    }\n",
       "</style>\n",
       "<table border=\"1\" class=\"dataframe\">\n",
       "  <thead>\n",
       "    <tr style=\"text-align: right;\">\n",
       "      <th></th>\n",
       "      <th>nom_pokemon</th>\n",
       "      <th>défense_de_base</th>\n",
       "    </tr>\n",
       "  </thead>\n",
       "  <tbody>\n",
       "    <tr>\n",
       "      <th>0</th>\n",
       "      <td>Ptiravi</td>\n",
       "      <td>5</td>\n",
       "    </tr>\n",
       "    <tr>\n",
       "      <th>1</th>\n",
       "      <td>Leveinard</td>\n",
       "      <td>5</td>\n",
       "    </tr>\n",
       "  </tbody>\n",
       "</table>\n",
       "</div>"
      ],
      "text/plain": [
       "  nom_pokemon  défense_de_base\n",
       "0     Ptiravi                5\n",
       "1   Leveinard                5"
      ]
     },
     "execution_count": 111,
     "metadata": {},
     "output_type": "execute_result"
    }
   ],
   "source": [
    "pokemon_min_defense\n"
   ]
  },
  {
   "cell_type": "markdown",
   "metadata": {},
   "source": [
    "# Visualisation DataViz"
   ]
  },
  {
   "cell_type": "markdown",
   "metadata": {},
   "source": [
    "## Pokemon le plus puissant en attaque toute génération confondues (resp. le moins puissant)"
   ]
  },
  {
   "cell_type": "code",
   "execution_count": 112,
   "metadata": {},
   "outputs": [],
   "source": [
    "dataviz = pd.concat([pokemon_max_attaque, pokemon_min_attaque,pokemon_max_defense,pokemon_min_defense], ignore_index=True)"
   ]
  },
  {
   "cell_type": "code",
   "execution_count": 119,
   "metadata": {},
   "outputs": [
    {
     "data": {
      "text/html": [
       "<div>\n",
       "<style scoped>\n",
       "    .dataframe tbody tr th:only-of-type {\n",
       "        vertical-align: middle;\n",
       "    }\n",
       "\n",
       "    .dataframe tbody tr th {\n",
       "        vertical-align: top;\n",
       "    }\n",
       "\n",
       "    .dataframe thead th {\n",
       "        text-align: right;\n",
       "    }\n",
       "</style>\n",
       "<table border=\"1\" class=\"dataframe\">\n",
       "  <thead>\n",
       "    <tr style=\"text-align: right;\">\n",
       "      <th></th>\n",
       "      <th>attaque_de_base</th>\n",
       "      <th>défense_de_base</th>\n",
       "      <th>nom_pokemon</th>\n",
       "    </tr>\n",
       "  </thead>\n",
       "  <tbody>\n",
       "    <tr>\n",
       "      <th>0</th>\n",
       "      <td>181.0</td>\n",
       "      <td>NaN</td>\n",
       "      <td>Katagami</td>\n",
       "    </tr>\n",
       "    <tr>\n",
       "      <th>1</th>\n",
       "      <td>5.0</td>\n",
       "      <td>NaN</td>\n",
       "      <td>Ptiravi</td>\n",
       "    </tr>\n",
       "    <tr>\n",
       "      <th>2</th>\n",
       "      <td>5.0</td>\n",
       "      <td>NaN</td>\n",
       "      <td>Leveinard</td>\n",
       "    </tr>\n",
       "    <tr>\n",
       "      <th>3</th>\n",
       "      <td>NaN</td>\n",
       "      <td>230.0</td>\n",
       "      <td>Caratroc</td>\n",
       "    </tr>\n",
       "    <tr>\n",
       "      <th>4</th>\n",
       "      <td>NaN</td>\n",
       "      <td>5.0</td>\n",
       "      <td>Ptiravi</td>\n",
       "    </tr>\n",
       "    <tr>\n",
       "      <th>5</th>\n",
       "      <td>NaN</td>\n",
       "      <td>5.0</td>\n",
       "      <td>Leveinard</td>\n",
       "    </tr>\n",
       "  </tbody>\n",
       "</table>\n",
       "</div>"
      ],
      "text/plain": [
       "   attaque_de_base  défense_de_base nom_pokemon\n",
       "0            181.0              NaN    Katagami\n",
       "1              5.0              NaN     Ptiravi\n",
       "2              5.0              NaN   Leveinard\n",
       "3              NaN            230.0    Caratroc\n",
       "4              NaN              5.0     Ptiravi\n",
       "5              NaN              5.0   Leveinard"
      ]
     },
     "execution_count": 119,
     "metadata": {},
     "output_type": "execute_result"
    }
   ],
   "source": [
    "dataviz"
   ]
  },
  {
   "cell_type": "code",
   "execution_count": 120,
   "metadata": {},
   "outputs": [
    {
     "data": {
      "image/png": "[encoded data removed]",
      "text/plain": [
       "<Figure size 720x360 with 1 Axes>"
      ]
     },
     "metadata": {},
     "output_type": "display_data"
    }
   ],
   "source": [
    "test=dataviz.plot(kind='bar', x='nom_pokemon', y=['attaque_de_base', 'défense_de_base'], figsize=(10,5), grid=True,rot=0)"
   ]
  },
  {
   "cell_type": "markdown",
   "metadata": {},
   "source": [
    "# Comparaison de pokemon par l'utilisateur via leur noms"
   ]
  },
  {
   "cell_type": "code",
   "execution_count": 115,
   "metadata": {},
   "outputs": [
    {
     "name": "stdout",
     "output_type": "stream",
     "text": [
      "Veuillez entre le nom du 1er pokemon\n",
      "Pikachu\n",
      "Veuillez entre le nom du 2ème pokemon\n",
      "Abra\n"
     ]
    },
    {
     "data": {
      "text/html": [
       "<div>\n",
       "<style scoped>\n",
       "    .dataframe tbody tr th:only-of-type {\n",
       "        vertical-align: middle;\n",
       "    }\n",
       "\n",
       "    .dataframe tbody tr th {\n",
       "        vertical-align: top;\n",
       "    }\n",
       "\n",
       "    .dataframe thead th {\n",
       "        text-align: right;\n",
       "    }\n",
       "</style>\n",
       "<table border=\"1\" class=\"dataframe\">\n",
       "  <thead>\n",
       "    <tr style=\"text-align: right;\">\n",
       "      <th></th>\n",
       "      <th>id_pokemon</th>\n",
       "      <th>nom_pokemon</th>\n",
       "      <th>taille</th>\n",
       "      <th>poids</th>\n",
       "      <th>points_de_vie_de_base</th>\n",
       "      <th>attaque_de_base</th>\n",
       "      <th>défense_de_base</th>\n",
       "      <th>attaque_spéciale_de_base</th>\n",
       "      <th>défense_spéciale_de_base</th>\n",
       "      <th>vitesse_de_base</th>\n",
       "      <th>type_pokemon</th>\n",
       "    </tr>\n",
       "  </thead>\n",
       "  <tbody>\n",
       "    <tr>\n",
       "      <th>0</th>\n",
       "      <td>25</td>\n",
       "      <td>Pikachu</td>\n",
       "      <td>0.0</td>\n",
       "      <td>6.0</td>\n",
       "      <td>35</td>\n",
       "      <td>55</td>\n",
       "      <td>40</td>\n",
       "      <td>50</td>\n",
       "      <td>50</td>\n",
       "      <td>90</td>\n",
       "      <td>13</td>\n",
       "    </tr>\n",
       "    <tr>\n",
       "      <th>1</th>\n",
       "      <td>63</td>\n",
       "      <td>Abra</td>\n",
       "      <td>1.0</td>\n",
       "      <td>20.0</td>\n",
       "      <td>25</td>\n",
       "      <td>20</td>\n",
       "      <td>15</td>\n",
       "      <td>105</td>\n",
       "      <td>55</td>\n",
       "      <td>90</td>\n",
       "      <td>14</td>\n",
       "    </tr>\n",
       "  </tbody>\n",
       "</table>\n",
       "</div>"
      ],
      "text/plain": [
       "   id_pokemon nom_pokemon  taille  poids  points_de_vie_de_base  \\\n",
       "0          25     Pikachu     0.0    6.0                     35   \n",
       "1          63        Abra     1.0   20.0                     25   \n",
       "\n",
       "   attaque_de_base  défense_de_base  attaque_spéciale_de_base  \\\n",
       "0               55               40                        50   \n",
       "1               20               15                       105   \n",
       "\n",
       "   défense_spéciale_de_base  vitesse_de_base  type_pokemon  \n",
       "0                        50               90            13  \n",
       "1                        55               90            14  "
      ]
     },
     "execution_count": 115,
     "metadata": {},
     "output_type": "execute_result"
    }
   ],
   "source": [
    "print('Veuillez entre le nom du 1er pokemon')\n",
    "premier_pokemon = input()\n",
    "pokemon1 = pd.read_sql(\n",
    "    'select * from pokemons where nom_pokemon=%(premier_pokemon)s',\n",
    "    mydb,\n",
    "    params={'premier_pokemon': premier_pokemon})\n",
    "# pokemon1\n",
    "print('Veuillez entre le nom du 2ème pokemon')\n",
    "deuxieme_pokemon = input()\n",
    "pokemon2 = pd.read_sql(\n",
    "    'select * from pokemons where nom_pokemon=%(deuxieme_pokemon)s',\n",
    "    mydb,\n",
    "    params={'deuxieme_pokemon': deuxieme_pokemon})\n",
    "# pokemon2\n",
    "compa_pokemon = pd.concat([pokemon1, pokemon2], ignore_index=True)\n",
    "compa_pokemon"
   ]
  },
  {
   "cell_type": "code",
   "execution_count": 116,
   "metadata": {},
   "outputs": [],
   "source": [
    "take_max=compa_pokemon[['points_de_vie_de_base','attaque_de_base','défense_de_base','attaque_spéciale_de_base','défense_spéciale_de_base']].max().max()"
   ]
  },
  {
   "cell_type": "code",
   "execution_count": 117,
   "metadata": {},
   "outputs": [
    {
     "data": {
      "text/plain": [
       "105"
      ]
     },
     "execution_count": 117,
     "metadata": {},
     "output_type": "execute_result"
    }
   ],
   "source": [
    "take_max"
   ]
  },
  {
   "cell_type": "code",
   "execution_count": 118,
   "metadata": {},
   "outputs": [
    {
     "data": {
      "text/html": [
       "<script>requirejs.config({paths: { 'plotly': ['https://cdn.plot.ly/plotly-latest.min']},});if(!window.Plotly) {{require(['plotly'],function(plotly) {window.Plotly=plotly;});}}</script>"
      ],
      "text/vnd.plotly.v1+html": [
       "<script>requirejs.config({paths: { 'plotly': ['https://cdn.plot.ly/plotly-latest.min']},});if(!window.Plotly) {{require(['plotly'],function(plotly) {window.Plotly=plotly;});}}</script>"
      ]
     },
     "metadata": {},
     "output_type": "display_data"
    },
    {
     "data": {
      "text/html": [
       "<iframe id=\"igraph\" scrolling=\"no\" style=\"border:none;\" seamless=\"seamless\" src=\"https://plot.ly/~Mendoza_Miguel/79.embed\" height=\"525px\" width=\"100%\"></iframe>"
      ],
      "text/plain": [
       "<plotly.tools.PlotlyDisplay object>"
      ]
     },
     "execution_count": 118,
     "metadata": {},
     "output_type": "execute_result"
    }
   ],
   "source": [
    "import plotly.plotly as py\n",
    "import plotly.graph_objs as go\n",
    "import plotly.tools\n",
    "from plotly.offline import download_plotlyjs, init_notebook_mode, plot, iplot\n",
    "\n",
    "\n",
    "plotly.tools.set_credentials_file(username='Mendoza_Miguel', api_key='fQ5ZcZYDYaYjCZz8r7El')\n",
    "\n",
    "plotly.offline.init_notebook_mode(connected=True) #iplot hors-ligne\n",
    "\n",
    "data = [go.Scatterpolar(\n",
    "    r = [compa_pokemon.taille[0], compa_pokemon.poids[0],compa_pokemon.points_de_vie_de_base[0], compa_pokemon.attaque_de_base[0], compa_pokemon.attaque_spéciale_de_base[0], compa_pokemon.vitesse_de_base[0]],\n",
    "    theta = ['taille','poids','points_de_vie', 'att_base', 'att_sp', 'vit_att'],\n",
    "#     fill = 'toself',\n",
    "    name = premier_pokemon\n",
    "),\n",
    "go.Scatterpolar(\n",
    "    r = [compa_pokemon.taille[1], compa_pokemon.poids[1],compa_pokemon.points_de_vie_de_base[1], compa_pokemon.attaque_de_base[1], compa_pokemon.attaque_spéciale_de_base[1], compa_pokemon.vitesse_de_base[1]],\n",
    "    theta = ['taille','poids','points_de_vie', 'att_base', 'att_sp', 'vit_att'],\n",
    "#     fill = 'toself',\n",
    "    name = deuxieme_pokemon\n",
    ")]\n",
    "\n",
    "layout = go.Layout(\n",
    "  polar = dict(\n",
    "    radialaxis = dict(\n",
    "      visible = True,\n",
    "      range = [0,take_max]\n",
    "    )\n",
    "  ),\n",
    "  showlegend = True\n",
    "    \n",
    ")\n",
    "fig = go.Figure(data=data, layout=layout)\n",
    "py.iplot(fig)"
   ]
  },
  {
   "cell_type": "code",
   "execution_count": null,
   "metadata": {},
   "outputs": [],
   "source": []
  }
 ],
 "metadata": {
  "kernelspec": {
   "display_name": "Python 3",
   "language": "python",
   "name": "python3"
  },
  "language_info": {
   "codemirror_mode": {
    "name": "ipython",
    "version": 3
   },
   "file_extension": ".py",
   "mimetype": "text/x-python",
   "name": "python",
   "nbconvert_exporter": "python",
   "pygments_lexer": "ipython3",
   "version": "3.6.5"
  },
  "varInspector": {
   "cols": {
    "lenName": 16,
    "lenType": 16,
    "lenVar": 40
   },
   "kernels_config": {
    "python": {
     "delete_cmd_postfix": "",
     "delete_cmd_prefix": "del ",
     "library": "var_list.py",
     "varRefreshCmd": "print(var_dic_list())"
    },
    "r": {
     "delete_cmd_postfix": ") ",
     "delete_cmd_prefix": "rm(",
     "library": "var_list.r",
     "varRefreshCmd": "cat(var_dic_list()) "
    }
   },
   "position": {
    "height": "144px",
    "left": "998px",
    "right": "20px",
    "top": "120px",
    "width": "350px"
   },
   "types_to_exclude": [
    "module",
    "function",
    "builtin_function_or_method",
    "instance",
    "_Feature"
   ],
   "window_display": false
  }
 },
 "nbformat": 4,
 "nbformat_minor": 2
}
